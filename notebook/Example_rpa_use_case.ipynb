{
 "cells": [
  {
   "cell_type": "markdown",
   "id": "d5699a49",
   "metadata": {
    "toc": true
   },
   "source": [
    "<h1>Table of Contents<span class=\"tocSkip\"></span></h1>\n",
    "<div class=\"toc\"><ul class=\"toc-item\"><li><span><a href=\"#What-is-RPA?\" data-toc-modified-id=\"What-is-RPA?-1\"><span class=\"toc-item-num\">1&nbsp;&nbsp;</span>What is RPA?</a></span></li><li><span><a href=\"#What-types-of-tools-are-available?\" data-toc-modified-id=\"What-types-of-tools-are-available?-2\"><span class=\"toc-item-num\">2&nbsp;&nbsp;</span>What types of tools are available?</a></span></li><li><span><a href=\"#Areas-where-RPA-is-useful:\" data-toc-modified-id=\"Areas-where-RPA-is-useful:-3\"><span class=\"toc-item-num\">3&nbsp;&nbsp;</span>Areas where RPA is useful:</a></span></li><li><span><a href=\"#Example-use-case---TagUI-for-python\" data-toc-modified-id=\"Example-use-case---TagUI-for-python-4\"><span class=\"toc-item-num\">4&nbsp;&nbsp;</span>Example use case - TagUI for python</a></span><ul class=\"toc-item\"><li><span><a href=\"#Downloading-the-historical-price-data-for-bitcoin-and-GLDM-(gold-ETF)\" data-toc-modified-id=\"Downloading-the-historical-price-data-for-bitcoin-and-GLDM-(gold-ETF)-4.1\"><span class=\"toc-item-num\">4.1&nbsp;&nbsp;</span>Downloading the historical price data for bitcoin and GLDM (gold ETF)</a></span><ul class=\"toc-item\"><li><span><a href=\"#Download-bitcoin-and-GLDM-prices-from-yahoo-finance\" data-toc-modified-id=\"Download-bitcoin-and-GLDM-prices-from-yahoo-finance-4.1.1\"><span class=\"toc-item-num\">4.1.1&nbsp;&nbsp;</span>Download bitcoin and GLDM prices from yahoo finance</a></span></li></ul></li></ul></li><li><span><a href=\"#Combine-RPA-with-other-python-packages:-example-use-case\" data-toc-modified-id=\"Combine-RPA-with-other-python-packages:-example-use-case-5\"><span class=\"toc-item-num\">5&nbsp;&nbsp;</span>Combine RPA with other python packages: example use-case</a></span><ul class=\"toc-item\"><li><span><a href=\"#Understanding-the-concepts\" data-toc-modified-id=\"Understanding-the-concepts-5.1\"><span class=\"toc-item-num\">5.1&nbsp;&nbsp;</span>Understanding the concepts</a></span><ul class=\"toc-item\"><li><span><a href=\"#Bitcoin-vs-GLDM\" data-toc-modified-id=\"Bitcoin-vs-GLDM-5.1.1\"><span class=\"toc-item-num\">5.1.1&nbsp;&nbsp;</span>Bitcoin vs GLDM</a></span></li><li><span><a href=\"#open-vs-high-vs-low-vs-close-vs-adj-close\" data-toc-modified-id=\"open-vs-high-vs-low-vs-close-vs-adj-close-5.1.2\"><span class=\"toc-item-num\">5.1.2&nbsp;&nbsp;</span>open vs high vs low vs close vs adj close</a></span></li><li><span><a href=\"#Key-variables-to-use\" data-toc-modified-id=\"Key-variables-to-use-5.1.3\"><span class=\"toc-item-num\">5.1.3&nbsp;&nbsp;</span>Key variables to use</a></span></li></ul></li><li><span><a href=\"#How-preprocessing-will-be-done:\" data-toc-modified-id=\"How-preprocessing-will-be-done:-5.2\"><span class=\"toc-item-num\">5.2&nbsp;&nbsp;</span>How preprocessing will be done:</a></span></li><li><span><a href=\"#Load-libraries\" data-toc-modified-id=\"Load-libraries-5.3\"><span class=\"toc-item-num\">5.3&nbsp;&nbsp;</span>Load libraries</a></span></li><li><span><a href=\"#Load-dataset\" data-toc-modified-id=\"Load-dataset-5.4\"><span class=\"toc-item-num\">5.4&nbsp;&nbsp;</span>Load dataset</a></span></li><li><span><a href=\"#Define-functions\" data-toc-modified-id=\"Define-functions-5.5\"><span class=\"toc-item-num\">5.5&nbsp;&nbsp;</span>Define functions</a></span></li><li><span><a href=\"#bitcoin\" data-toc-modified-id=\"bitcoin-5.6\"><span class=\"toc-item-num\">5.6&nbsp;&nbsp;</span>bitcoin</a></span><ul class=\"toc-item\"><li><span><a href=\"#Inspect-dataset\" data-toc-modified-id=\"Inspect-dataset-5.6.1\"><span class=\"toc-item-num\">5.6.1&nbsp;&nbsp;</span>Inspect dataset</a></span></li><li><span><a href=\"#Missing-values\" data-toc-modified-id=\"Missing-values-5.6.2\"><span class=\"toc-item-num\">5.6.2&nbsp;&nbsp;</span>Missing values</a></span></li><li><span><a href=\"#Unique-values\" data-toc-modified-id=\"Unique-values-5.6.3\"><span class=\"toc-item-num\">5.6.3&nbsp;&nbsp;</span>Unique values</a></span></li><li><span><a href=\"#Duplicates\" data-toc-modified-id=\"Duplicates-5.6.4\"><span class=\"toc-item-num\">5.6.4&nbsp;&nbsp;</span>Duplicates</a></span></li><li><span><a href=\"#Convert-data-types\" data-toc-modified-id=\"Convert-data-types-5.6.5\"><span class=\"toc-item-num\">5.6.5&nbsp;&nbsp;</span>Convert data types</a></span></li><li><span><a href=\"#Set-date-as-row-index\" data-toc-modified-id=\"Set-date-as-row-index-5.6.6\"><span class=\"toc-item-num\">5.6.6&nbsp;&nbsp;</span>Set date as row index</a></span></li><li><span><a href=\"#Check-date-range\" data-toc-modified-id=\"Check-date-range-5.6.7\"><span class=\"toc-item-num\">5.6.7&nbsp;&nbsp;</span>Check date range</a></span></li><li><span><a href=\"#Rename-column-names\" data-toc-modified-id=\"Rename-column-names-5.6.8\"><span class=\"toc-item-num\">5.6.8&nbsp;&nbsp;</span>Rename column names</a></span></li><li><span><a href=\"#Index-prices\" data-toc-modified-id=\"Index-prices-5.6.9\"><span class=\"toc-item-num\">5.6.9&nbsp;&nbsp;</span>Index prices</a></span></li></ul></li><li><span><a href=\"#GLDM\" data-toc-modified-id=\"GLDM-5.7\"><span class=\"toc-item-num\">5.7&nbsp;&nbsp;</span>GLDM</a></span><ul class=\"toc-item\"><li><span><a href=\"#Inspect-dataset\" data-toc-modified-id=\"Inspect-dataset-5.7.1\"><span class=\"toc-item-num\">5.7.1&nbsp;&nbsp;</span>Inspect dataset</a></span></li><li><span><a href=\"#Missing-values\" data-toc-modified-id=\"Missing-values-5.7.2\"><span class=\"toc-item-num\">5.7.2&nbsp;&nbsp;</span>Missing values</a></span></li><li><span><a href=\"#Unique-values\" data-toc-modified-id=\"Unique-values-5.7.3\"><span class=\"toc-item-num\">5.7.3&nbsp;&nbsp;</span>Unique values</a></span></li><li><span><a href=\"#Duplicates\" data-toc-modified-id=\"Duplicates-5.7.4\"><span class=\"toc-item-num\">5.7.4&nbsp;&nbsp;</span>Duplicates</a></span></li><li><span><a href=\"#Convert-data-types\" data-toc-modified-id=\"Convert-data-types-5.7.5\"><span class=\"toc-item-num\">5.7.5&nbsp;&nbsp;</span>Convert data types</a></span></li><li><span><a href=\"#Set-date-as-row-index\" data-toc-modified-id=\"Set-date-as-row-index-5.7.6\"><span class=\"toc-item-num\">5.7.6&nbsp;&nbsp;</span>Set date as row index</a></span></li><li><span><a href=\"#Check-date-range\" data-toc-modified-id=\"Check-date-range-5.7.7\"><span class=\"toc-item-num\">5.7.7&nbsp;&nbsp;</span>Check date range</a></span></li><li><span><a href=\"#Rename-column-names\" data-toc-modified-id=\"Rename-column-names-5.7.8\"><span class=\"toc-item-num\">5.7.8&nbsp;&nbsp;</span>Rename column names</a></span></li><li><span><a href=\"#Index-prices\" data-toc-modified-id=\"Index-prices-5.7.9\"><span class=\"toc-item-num\">5.7.9&nbsp;&nbsp;</span>Index prices</a></span></li></ul></li><li><span><a href=\"#Merge-indexed-bitcoin-with-GLDM\" data-toc-modified-id=\"Merge-indexed-bitcoin-with-GLDM-5.8\"><span class=\"toc-item-num\">5.8&nbsp;&nbsp;</span>Merge indexed bitcoin with GLDM</a></span><ul class=\"toc-item\"><li><span><a href=\"#Dealing-with-the-NA-values-due-to-missing-weekend-data-for-GLDM\" data-toc-modified-id=\"Dealing-with-the-NA-values-due-to-missing-weekend-data-for-GLDM-5.8.1\"><span class=\"toc-item-num\">5.8.1&nbsp;&nbsp;</span>Dealing with the NA values due to missing weekend data for GLDM</a></span></li></ul></li><li><span><a href=\"#Get-dataframe-for-linechart\" data-toc-modified-id=\"Get-dataframe-for-linechart-5.9\"><span class=\"toc-item-num\">5.9&nbsp;&nbsp;</span>Get dataframe for linechart</a></span></li><li><span><a href=\"#Load-dataframe-as-excel-file\" data-toc-modified-id=\"Load-dataframe-as-excel-file-5.10\"><span class=\"toc-item-num\">5.10&nbsp;&nbsp;</span>Load dataframe as excel file</a></span><ul class=\"toc-item\"><li><span><a href=\"#Define-ExcelChart-class\" data-toc-modified-id=\"Define-ExcelChart-class-5.10.1\"><span class=\"toc-item-num\">5.10.1&nbsp;&nbsp;</span>Define ExcelChart class</a></span></li></ul></li></ul></li><li><span><a href=\"#Create-new-excel-sheet-with-line-chart,-append-raw-dataframes-as-separate-worksheets,-then-save-the-excel-workbook\" data-toc-modified-id=\"Create-new-excel-sheet-with-line-chart,-append-raw-dataframes-as-separate-worksheets,-then-save-the-excel-workbook-6\"><span class=\"toc-item-num\">6&nbsp;&nbsp;</span>Create new excel sheet with line chart, append raw dataframes as separate worksheets, then save the excel workbook</a></span></li><li><span><a href=\"#Further-ideas\" data-toc-modified-id=\"Further-ideas-7\"><span class=\"toc-item-num\">7&nbsp;&nbsp;</span>Further ideas</a></span></li></ul></div>"
   ]
  },
  {
   "cell_type": "markdown",
   "id": "1131081e",
   "metadata": {},
   "source": [
    "# What is RPA?\n",
    "\n",
    "Robotic Process Automation, or [RPA](https://en.wikipedia.org/wiki/Robotic_process_automation) is a type of software technology that helps to automate repetitive tasks. \n",
    "\n",
    "# What types of tools are available?\n",
    "\n",
    "There are many tools available in the market. These include paid software such as [UiPath](https://www.uipath.com/) and free tools such as [TagUI](https://aisingapore.org/tagui/)\n",
    "\n",
    "# Areas where RPA is useful: \n",
    "\n",
    "Any repetitive computer-related task that is based on known rules, and which can be broken down or operationalised into a series of steps  "
   ]
  },
  {
   "cell_type": "markdown",
   "id": "a043b12d",
   "metadata": {},
   "source": [
    "# Example use case - TagUI for python\n",
    "\n",
    "To demonstrate how easy it is to use TagUI, we can use it to download historial price data for bitcoin and GLDM (gold ETF) from the web. Although this is less efficient than using other known python packages for web scraping, the same concepts can also be applied when automating well-defined repetitive tasks within legacy software systems. In those instances where automation is done from the user's perspective, computer vision can be used to assist in the automation process. \n",
    "\n",
    "For the example below, we will be using xpaths to idenfity elements within the yahoo finance website. \n",
    "\n",
    "TagUI can be installed from [here](https://tagui.readthedocs.io/en/latest/setup.html)  \n",
    "- The API documentation for TagUI for python can be found [here](https://github.com/tebelorg/RPA-Python)  "
   ]
  },
  {
   "cell_type": "markdown",
   "id": "4e70f869",
   "metadata": {},
   "source": [
    "## Downloading the historical price data for bitcoin and GLDM (gold ETF)\n",
    "\n",
    "Task: Download bitcoin and GLDM (gold ETF) price data from yahoo finance using TagUI in python\n",
    "  - Date range: June 1, 2019 to today  \n",
    "\n",
    "Break down the task into a series of steps:"
   ]
  },
  {
   "cell_type": "markdown",
   "id": "a9e0397f",
   "metadata": {},
   "source": [
    "### Download bitcoin and GLDM prices from yahoo finance"
   ]
  },
  {
   "cell_type": "code",
   "execution_count": 1,
   "id": "ee4a56a2",
   "metadata": {
    "ExecuteTime": {
     "end_time": "2021-10-12T04:43:42.015680Z",
     "start_time": "2021-10-12T04:43:42.001599Z"
    },
    "scrolled": true
   },
   "outputs": [],
   "source": [
    "from datetime import datetime \n",
    "from pathlib import Path\n",
    "import os # used to change directory\n",
    "import rpa as r\n",
    "\n",
    "TODAY = str(datetime.today().strftime('%d/%m/%Y'))\n",
    "\n",
    "search_terms = ['bitcoin', 'gldm']\n",
    "start_date = '01/06/2019'\n",
    "end_date = TODAY\n",
    "raw_csv_folder = Path.cwd().parents[0]/'data/raw'\n",
    "\n",
    "def download_csv(\n",
    "    raw_csv_folder: str,\n",
    "    search_terms: list,\n",
    "    start_date: str,\n",
    "    end_date: str\n",
    "):\n",
    "    \"\"\"Download csv files of historical price data for specified financial assets from yahoo finance\n",
    "    - xpaths are based on yahoo finance website\n",
    "\n",
    "    Args:\n",
    "        raw_csv_folder (str): absolute file path to folder to save raw csv files\n",
    "        search_terms (list): list of financial assets to search for and download csv of historical prices\n",
    "        start_date (str): start date of historical price data\n",
    "        end_date (str): end date of historical price data.\n",
    "    \"\"\"\n",
    "    # change working directory as the downloaded csv files are saved into current working dir\n",
    "    os.chdir(raw_csv_folder)\n",
    "\n",
    "    # instantiate rpa \n",
    "    r.init()\n",
    "\n",
    "    # go to yahoo finance to obtain price data\n",
    "    r.url('https://finance.yahoo.com')\n",
    "\n",
    "    # wait for the page to load\n",
    "    r.wait(3)\n",
    "\n",
    "    for search_term in search_terms:\n",
    "        \n",
    "        # use yahoo finance search bar\n",
    "        r.type('//*[@id=\"yfin-usr-qry\"]', search_term + '[enter]')\n",
    "\n",
    "        r.wait(1)\n",
    "        \n",
    "        # go to historical data link\n",
    "        r.click('//*[@data-test=\"HISTORICAL_DATA\"]')\n",
    "        \n",
    "        # click on date range\n",
    "        r.click('//*[@id=\"Col1-1-HistoricalDataTable-Proxy\"]/section/div[1]/div[1]/div[1]/div/div/div/span')\n",
    "        \n",
    "        # wait for dropdown menu to pop up before entering date\n",
    "        r.wait(2)\n",
    "        \n",
    "        # input starting date range\n",
    "        r.type('//*[@id=\"dropdown-menu\"]/div/div[1]/input', start_date)\n",
    "        \n",
    "        # input end date\n",
    "        r.type('//*[@id=\"dropdown-menu\"]/div/div[2]/input', end_date)\n",
    "        \n",
    "        # click 'done' button in dropdown menu\n",
    "        r.click('//*[@id=\"dropdown-menu\"]/div/div[3]/button[1]/span')\n",
    "        \n",
    "        # click apply button to apply date range\n",
    "        r.click('//*[@id=\"Col1-1-HistoricalDataTable-Proxy\"]/section/div[1]/div[1]/button/span')\n",
    "        \n",
    "        # download the csv file \n",
    "        r.click('//*[@id=\"Col1-1-HistoricalDataTable-Proxy\"]/section/div[1]/div[2]/span[2]/a/span')\n",
    "        \n",
    "    r.close()"
   ]
  },
  {
   "cell_type": "code",
   "execution_count": 2,
   "id": "c3b4b500",
   "metadata": {
    "ExecuteTime": {
     "end_time": "2021-10-12T04:44:16.772982Z",
     "start_time": "2021-10-12T04:43:42.016680Z"
    }
   },
   "outputs": [],
   "source": [
    "download_csv(\n",
    "    raw_csv_folder = raw_csv_folder,\n",
    "    search_terms = search_terms,\n",
    "    start_date = start_date,\n",
    "    end_date = end_date\n",
    ")"
   ]
  },
  {
   "cell_type": "markdown",
   "id": "19fad5e8",
   "metadata": {},
   "source": [
    "# Combine RPA with other python packages: example use-case"
   ]
  },
  {
   "cell_type": "markdown",
   "id": "fb44a28f",
   "metadata": {},
   "source": [
    "We can also combine RPA with other python libraries like pandas and openpyxl. \n",
    "For example, with the downloaded bitcoin and GLDM (gold ETF) csv, we can then merge both datasets and create a combined line chart in excel that displays the indexed prices (indexed to 1/6/2019 price) for bitcoin and GLDM in the same excel chart. \n",
    "\n",
    "Here's a breakdown of the steps: \n",
    "1. Process both sets of price data: \n",
    "  - index bitcoin and GLDM prices based on 1/6/2019 price, with all other prices relative to that price ('indexing to 100')\n",
    "2. Merge both sets of price data into the same spreadsheet \n",
    "3. Create a line chart showing the daily indexed price history from June 1, 2019 to today  \n",
    "4. Save output as excel file with line chart  \n",
    "\n",
    "However, before we can do this, we should understand the underlying concepts related to bitcoin and GLDM, and first explore the respective datasets. "
   ]
  },
  {
   "cell_type": "markdown",
   "id": "4b3857b6",
   "metadata": {},
   "source": [
    "## Understanding the concepts"
   ]
  },
  {
   "cell_type": "markdown",
   "id": "0175ebd2",
   "metadata": {},
   "source": [
    "To understand how we should be processing both csv files, we should try to understand the terms and concepts related to bitcoin and GLDM\n",
    "\n",
    "### Bitcoin vs GLDM\n",
    "\n",
    "- **Bitcoin**: cryptocurrency\n",
    "  - generated through the process of mining \n",
    "  - currently trading on 9598 active markets\n",
    "  - trades 24/7  \n",
    "  - can be bought through cryptocurrency exchanges\n",
    "  - source of yahoo finance historical price data is actually from [CoinMarketCap](https://coinmarketcap.com)  \n",
    "  - from [CoinMarketCap historical data](https://coinmarketcap.com/currencies/bitcoin/historical-data) the price at open/close is actually based on Coordinated Universal Time (UTC)    \n",
    "  - from yahoo finance, the ['Close'](https://finance.yahoo.com/quote/BTC-USD/history?p=BTC-USD) price has been adjusted for splits, and the [Adjusted close price](https://finance.yahoo.com/quote/BTC-USD/history?p=BTC-USD) has been adjusted for both dividends and splits.  \n",
    "  \n",
    "---\n",
    "\n",
    "- **GLDM** Gold ETF (mini): Exchange Traded Fund to track price of gold  \n",
    "  - trades on NYSEArca exchange  \n",
    "  - only trades Mondays - Fridays excluding US public holidays  \n",
    "  - open/close prices based on trading price at market open/just before market closes at Eastern Daylight Time (EDT)  \n",
    "  - similar to bitcoin, the ['Close'](https://finance.yahoo.com/quote/GLDM/history?p=GLDM) price has been adjusted for splits, while the ['Adjusted Close Price'](https://finance.yahoo.com/quote/GLDM/history?p=GLDM) has been adjusted for both dividends and splits.  \n",
    "\n",
    "### open vs high vs low vs close vs adj close \n",
    "\n",
    "- open \n",
    "  - price at which a stock started trading when the opening bell rang\n",
    "  \n",
    "- close \n",
    "  - price of a stock when the stock exchanged has closed for the day (last buy-sell order executed between 2 traders) \n",
    "    - considered the reference point for any time frame \n",
    "    \n",
    "- high\n",
    "  - the highest price at which a stock traded during a period (since this is a daily chart, it would be during the day)  \n",
    "  \n",
    "- low \n",
    "  - lowest price at which a stock traded during the same time period (i.e. intraday low)  \n",
    "  \n",
    "- volume \n",
    "  - total number of shares traded in the stock/security over a timer period (i.e. during the day for this set of data)  \n",
    "\n",
    "- ['Adjusted Close Price'](https://finance.yahoo.com/quote/GLDM/history?p=GLDM)  \n",
    "  - closing price adjusted for both dividends and splits  \n",
    "    - stock split: corporate action in which a company increases the number of its outstanding shares by issuing more shares to current shareholders  \n",
    "    - dividend: distribution of a company's earnings to a class of its shareholders  \n",
    "    - why it matters: stock splits and dividend payouts affect the stock's price and value of the stock  \n",
    "    - this would be a more useful variable to use when compring the performance between asset classes over the long term  \n",
    "\n",
    "sources: \n",
    "[Analyzing Alpha](https://analyzingalpha.com/open-high-low-close-stocks), [Investopedia](https://www.investopedia.com/terms/a/adjusted_closing_price.asp)  \n",
    "\n",
    "### Key variables to use\n",
    "\n",
    "By [indexing](https://www.dallasfed.org/research/basics/indexing.aspx) the data to a common start date (i.e. in this case 1 June 2019), we are trying to normalise the data to a common starting point and observing how the price of bitcoin and GLDM change over time relative to each other.  \n",
    "- However, 1 June 2019 is a Saturday and GLDM does not trade on a Saturday  \n",
    "- There are 2 alternatives to facilitate comparison between the historical returns of bitcoin vs GLDM   \n",
    "  1. index to 3 June 2019 (Monday) instead of 1 June 2019 as GLDM would be NaN on 1 June 2019  \n",
    "    - but the problem is that we will still have NA values for the other weekend dates  \n",
    "  2. index price data separately first, then combine. Then fill the missing values with a combination of forward fill and backfill. (see below)\n",
    "\n",
    "\n",
    "**Dates**\n",
    "  - Dates for GLDM will only be available from Monday - Fridays excluding US Public holidays  \n",
    "  - While dates for Bitcoin will be available for every single day \n",
    "- When we merge both sets of price data, we can choose to merge on bitcoin or GLDM  \n",
    "- if we choose to merge on GLDM, then we will be losing important information on Bitcoin price changes over the weekend when GLDM is not trading \n",
    "- By choosing to merge on bitcoin, there will be missing values for the GLDM data  \n",
    "    - for the missing GLDM values, we can propagate last valid observation forward to next valid (forward fill) as that would reflect the price from Friday 'close' to Monday (i.e. when trading resumes)  \n",
    "\n",
    "## How preprocessing will be done: \n",
    "Based on the concepts discussed earlier, preprocessing will be done as per the following: \n",
    "\n",
    "- inspect each dataset separately \n",
    "- convert data types \n",
    "- rename column names according to the asset type (i.e. bitcoin or gldm)\n",
    "- index prices to start date (1 June 2019) \n",
    "- merge indexed GLDM to bitcoin on date column, use adjusted closing price for the chart\n",
    "- NA values:\n",
    "  - for GLDM chart values (adjusted closing price): forward fill the weekend dates (i.e. fill Sat and Sun data with Friday's closing price)  \n",
    "  - then backfill NA values for first 2 dates (since we do not have the data) as the start date (1 June 2019) falls on a weekend.\n",
    "- we will still keep all raw variables (eg. open/close/high/low) and indexed variables in separate spreadsheets in case the user needs to create candlestick charts or needs to access the raw dataset     \n"
   ]
  },
  {
   "cell_type": "markdown",
   "id": "52067c89",
   "metadata": {},
   "source": [
    "## Load libraries"
   ]
  },
  {
   "cell_type": "code",
   "execution_count": 3,
   "id": "7a7f4dda",
   "metadata": {
    "ExecuteTime": {
     "end_time": "2021-10-12T04:44:17.516489Z",
     "start_time": "2021-10-12T04:44:16.774204Z"
    }
   },
   "outputs": [],
   "source": [
    "from datetime import datetime\n",
    "import glob\n",
    "from openpyxl import Workbook\n",
    "from openpyxl.utils.dataframe import dataframe_to_rows\n",
    "from openpyxl.chart import LineChart, Reference\n",
    "from openpyxl.chart.axis import DateAxis\n",
    "import pandas as pd\n",
    "from pathlib import Path"
   ]
  },
  {
   "cell_type": "markdown",
   "id": "d636cec0",
   "metadata": {},
   "source": [
    "## Load dataset"
   ]
  },
  {
   "cell_type": "code",
   "execution_count": 4,
   "id": "e1b2fa52",
   "metadata": {
    "ExecuteTime": {
     "end_time": "2021-10-12T04:44:17.531931Z",
     "start_time": "2021-10-12T04:44:17.518055Z"
    }
   },
   "outputs": [
    {
     "data": {
      "text/plain": [
       "['BTC-USD.csv', 'GLDM.csv']"
      ]
     },
     "execution_count": 4,
     "metadata": {},
     "output_type": "execute_result"
    }
   ],
   "source": [
    "all_filenames = [name for name in glob.glob(f'*.{\"csv\"}')]\n",
    "all_filenames"
   ]
  },
  {
   "cell_type": "code",
   "execution_count": 5,
   "id": "542d8ab1",
   "metadata": {
    "ExecuteTime": {
     "end_time": "2021-10-12T04:44:17.547464Z",
     "start_time": "2021-10-12T04:44:17.533716Z"
    }
   },
   "outputs": [],
   "source": [
    "bitcoin = pd.read_csv('BTC-USD.csv')\n",
    "gldm = pd.read_csv('GLDM.csv')"
   ]
  },
  {
   "cell_type": "markdown",
   "id": "5b629743",
   "metadata": {},
   "source": [
    "## Define functions"
   ]
  },
  {
   "cell_type": "code",
   "execution_count": 6,
   "id": "c69f56a1",
   "metadata": {
    "ExecuteTime": {
     "end_time": "2021-10-12T04:44:17.562552Z",
     "start_time": "2021-10-12T04:44:17.549175Z"
    }
   },
   "outputs": [],
   "source": [
    "def check_missing(df):\n",
    "    print(f\"Number of missing or NA values for each column out of {len(df)} rows:\\\n",
    "          \\n {df.isna().sum()}\")\n",
    "    print('#'*40)\n",
    "\n",
    "    print(f\"Percentage of missing or NA values for each column out of {len(df)} rows:\\\n",
    "          \\n {round(df.isna().sum()/len(df)*100, 2)}\")\n",
    "    \n",
    "def check_unique(df):\n",
    "    print(f'Number of unique values for each column out of a total of {len(df)} rows: \\n {df.nunique()}')\n",
    "    \n",
    "def rename_col(asset_name: str, df: pd.DataFrame):\n",
    "    \"\"\"Rename column names based on financial asset name\n",
    "\n",
    "    Args:\n",
    "        asset_name (str): financial asset\n",
    "        df (pd.DataFrame): pandas dataframe containing price data \n",
    "\n",
    "    Returns:\n",
    "        df (pd.DataFrame): pandas dataframe with columns renamed\n",
    "    \"\"\"\n",
    "\n",
    "    newcol=[]\n",
    "\n",
    "    for col in df.columns.tolist():\n",
    "        newcol.append(col + '_' + asset_name)\n",
    "\n",
    "    df.columns = newcol\n",
    "\n",
    "    return df\n",
    "\n",
    "def index_prices(df: pd.DataFrame):\n",
    "    \"\"\"Index price data according to the value at the start date\n",
    "\n",
    "    Args:\n",
    "        df (pd.DataFrame): pandas dataframe containing price data\n",
    "\n",
    "    Returns:\n",
    "        df_indexed (pd.DataFrame): pandas dataframe with price data indexed\n",
    "    \"\"\"\n",
    "\n",
    "    # Set base prices row and columns\n",
    "    base_prices = df.iloc[0, :]\n",
    "\n",
    "    # Indexed prices\n",
    "    df_indexed = df.div(base_prices/100, axis =1)\n",
    "\n",
    "    return df_indexed"
   ]
  },
  {
   "cell_type": "markdown",
   "id": "5b1ab2d8",
   "metadata": {},
   "source": [
    "## bitcoin"
   ]
  },
  {
   "cell_type": "markdown",
   "id": "0770b53a",
   "metadata": {},
   "source": [
    "### Inspect dataset"
   ]
  },
  {
   "cell_type": "code",
   "execution_count": 7,
   "id": "b3544a26",
   "metadata": {
    "ExecuteTime": {
     "end_time": "2021-10-12T04:44:17.577793Z",
     "start_time": "2021-10-12T04:44:17.565604Z"
    }
   },
   "outputs": [
    {
     "name": "stdout",
     "output_type": "stream",
     "text": [
      "Number of rows and columns: (865, 7)\n"
     ]
    }
   ],
   "source": [
    "print(f\"Number of rows and columns: {bitcoin.shape}\")"
   ]
  },
  {
   "cell_type": "code",
   "execution_count": 8,
   "id": "114cd13d",
   "metadata": {
    "ExecuteTime": {
     "end_time": "2021-10-12T04:44:17.593447Z",
     "start_time": "2021-10-12T04:44:17.580241Z"
    },
    "scrolled": true
   },
   "outputs": [
    {
     "name": "stdout",
     "output_type": "stream",
     "text": [
      "<class 'pandas.core.frame.DataFrame'>\n",
      "RangeIndex: 865 entries, 0 to 864\n",
      "Data columns (total 7 columns):\n",
      " #   Column     Non-Null Count  Dtype  \n",
      "---  ------     --------------  -----  \n",
      " 0   Date       865 non-null    object \n",
      " 1   Open       861 non-null    float64\n",
      " 2   High       861 non-null    float64\n",
      " 3   Low        861 non-null    float64\n",
      " 4   Close      861 non-null    float64\n",
      " 5   Adj Close  861 non-null    float64\n",
      " 6   Volume     861 non-null    float64\n",
      "dtypes: float64(6), object(1)\n",
      "memory usage: 47.4+ KB\n"
     ]
    }
   ],
   "source": [
    "bitcoin.info()"
   ]
  },
  {
   "cell_type": "code",
   "execution_count": 9,
   "id": "622eb997",
   "metadata": {
    "ExecuteTime": {
     "end_time": "2021-10-12T04:44:17.608762Z",
     "start_time": "2021-10-12T04:44:17.594946Z"
    },
    "scrolled": true
   },
   "outputs": [
    {
     "data": {
      "text/html": [
       "<div>\n",
       "<style scoped>\n",
       "    .dataframe tbody tr th:only-of-type {\n",
       "        vertical-align: middle;\n",
       "    }\n",
       "\n",
       "    .dataframe tbody tr th {\n",
       "        vertical-align: top;\n",
       "    }\n",
       "\n",
       "    .dataframe thead th {\n",
       "        text-align: right;\n",
       "    }\n",
       "</style>\n",
       "<table border=\"1\" class=\"dataframe\">\n",
       "  <thead>\n",
       "    <tr style=\"text-align: right;\">\n",
       "      <th></th>\n",
       "      <th>Date</th>\n",
       "      <th>Open</th>\n",
       "      <th>High</th>\n",
       "      <th>Low</th>\n",
       "      <th>Close</th>\n",
       "      <th>Adj Close</th>\n",
       "      <th>Volume</th>\n",
       "    </tr>\n",
       "  </thead>\n",
       "  <tbody>\n",
       "    <tr>\n",
       "      <th>0</th>\n",
       "      <td>2019-06-01</td>\n",
       "      <td>8573.839844</td>\n",
       "      <td>8625.600586</td>\n",
       "      <td>8481.578125</td>\n",
       "      <td>8564.016602</td>\n",
       "      <td>8564.016602</td>\n",
       "      <td>2.248830e+10</td>\n",
       "    </tr>\n",
       "    <tr>\n",
       "      <th>1</th>\n",
       "      <td>2019-06-02</td>\n",
       "      <td>8565.473633</td>\n",
       "      <td>8809.303711</td>\n",
       "      <td>8561.235352</td>\n",
       "      <td>8742.958008</td>\n",
       "      <td>8742.958008</td>\n",
       "      <td>2.026622e+10</td>\n",
       "    </tr>\n",
       "    <tr>\n",
       "      <th>2</th>\n",
       "      <td>2019-06-03</td>\n",
       "      <td>8741.747070</td>\n",
       "      <td>8743.500000</td>\n",
       "      <td>8204.185547</td>\n",
       "      <td>8208.995117</td>\n",
       "      <td>8208.995117</td>\n",
       "      <td>2.200451e+10</td>\n",
       "    </tr>\n",
       "    <tr>\n",
       "      <th>3</th>\n",
       "      <td>2019-06-04</td>\n",
       "      <td>8210.985352</td>\n",
       "      <td>8210.985352</td>\n",
       "      <td>7564.488770</td>\n",
       "      <td>7707.770996</td>\n",
       "      <td>7707.770996</td>\n",
       "      <td>2.460973e+10</td>\n",
       "    </tr>\n",
       "    <tr>\n",
       "      <th>4</th>\n",
       "      <td>2019-06-05</td>\n",
       "      <td>7704.343262</td>\n",
       "      <td>7901.849121</td>\n",
       "      <td>7668.668457</td>\n",
       "      <td>7824.231445</td>\n",
       "      <td>7824.231445</td>\n",
       "      <td>2.176092e+10</td>\n",
       "    </tr>\n",
       "  </tbody>\n",
       "</table>\n",
       "</div>"
      ],
      "text/plain": [
       "         Date         Open         High          Low        Close  \\\n",
       "0  2019-06-01  8573.839844  8625.600586  8481.578125  8564.016602   \n",
       "1  2019-06-02  8565.473633  8809.303711  8561.235352  8742.958008   \n",
       "2  2019-06-03  8741.747070  8743.500000  8204.185547  8208.995117   \n",
       "3  2019-06-04  8210.985352  8210.985352  7564.488770  7707.770996   \n",
       "4  2019-06-05  7704.343262  7901.849121  7668.668457  7824.231445   \n",
       "\n",
       "     Adj Close        Volume  \n",
       "0  8564.016602  2.248830e+10  \n",
       "1  8742.958008  2.026622e+10  \n",
       "2  8208.995117  2.200451e+10  \n",
       "3  7707.770996  2.460973e+10  \n",
       "4  7824.231445  2.176092e+10  "
      ]
     },
     "execution_count": 9,
     "metadata": {},
     "output_type": "execute_result"
    }
   ],
   "source": [
    "bitcoin.head(5)"
   ]
  },
  {
   "cell_type": "code",
   "execution_count": 10,
   "id": "e83f3959",
   "metadata": {
    "ExecuteTime": {
     "end_time": "2021-10-12T04:44:17.623937Z",
     "start_time": "2021-10-12T04:44:17.610261Z"
    }
   },
   "outputs": [
    {
     "data": {
      "text/html": [
       "<div>\n",
       "<style scoped>\n",
       "    .dataframe tbody tr th:only-of-type {\n",
       "        vertical-align: middle;\n",
       "    }\n",
       "\n",
       "    .dataframe tbody tr th {\n",
       "        vertical-align: top;\n",
       "    }\n",
       "\n",
       "    .dataframe thead th {\n",
       "        text-align: right;\n",
       "    }\n",
       "</style>\n",
       "<table border=\"1\" class=\"dataframe\">\n",
       "  <thead>\n",
       "    <tr style=\"text-align: right;\">\n",
       "      <th></th>\n",
       "      <th>Date</th>\n",
       "      <th>Open</th>\n",
       "      <th>High</th>\n",
       "      <th>Low</th>\n",
       "      <th>Close</th>\n",
       "      <th>Adj Close</th>\n",
       "      <th>Volume</th>\n",
       "    </tr>\n",
       "  </thead>\n",
       "  <tbody>\n",
       "    <tr>\n",
       "      <th>860</th>\n",
       "      <td>2021-10-08</td>\n",
       "      <td>53802.144531</td>\n",
       "      <td>55922.980469</td>\n",
       "      <td>53688.054688</td>\n",
       "      <td>53967.847656</td>\n",
       "      <td>53967.847656</td>\n",
       "      <td>3.480087e+10</td>\n",
       "    </tr>\n",
       "    <tr>\n",
       "      <th>861</th>\n",
       "      <td>2021-10-09</td>\n",
       "      <td>53929.781250</td>\n",
       "      <td>55397.945313</td>\n",
       "      <td>53735.144531</td>\n",
       "      <td>54968.222656</td>\n",
       "      <td>54968.222656</td>\n",
       "      <td>3.249121e+10</td>\n",
       "    </tr>\n",
       "    <tr>\n",
       "      <th>862</th>\n",
       "      <td>2021-10-10</td>\n",
       "      <td>54952.820313</td>\n",
       "      <td>56401.304688</td>\n",
       "      <td>54264.257813</td>\n",
       "      <td>54771.578125</td>\n",
       "      <td>54771.578125</td>\n",
       "      <td>3.952779e+10</td>\n",
       "    </tr>\n",
       "    <tr>\n",
       "      <th>863</th>\n",
       "      <td>2021-10-11</td>\n",
       "      <td>54734.125000</td>\n",
       "      <td>57793.039063</td>\n",
       "      <td>54519.765625</td>\n",
       "      <td>57484.789063</td>\n",
       "      <td>57484.789063</td>\n",
       "      <td>4.263733e+10</td>\n",
       "    </tr>\n",
       "    <tr>\n",
       "      <th>864</th>\n",
       "      <td>2021-10-12</td>\n",
       "      <td>57413.859375</td>\n",
       "      <td>57413.859375</td>\n",
       "      <td>56526.679688</td>\n",
       "      <td>57010.562500</td>\n",
       "      <td>57010.562500</td>\n",
       "      <td>4.110214e+10</td>\n",
       "    </tr>\n",
       "  </tbody>\n",
       "</table>\n",
       "</div>"
      ],
      "text/plain": [
       "           Date          Open          High           Low         Close  \\\n",
       "860  2021-10-08  53802.144531  55922.980469  53688.054688  53967.847656   \n",
       "861  2021-10-09  53929.781250  55397.945313  53735.144531  54968.222656   \n",
       "862  2021-10-10  54952.820313  56401.304688  54264.257813  54771.578125   \n",
       "863  2021-10-11  54734.125000  57793.039063  54519.765625  57484.789063   \n",
       "864  2021-10-12  57413.859375  57413.859375  56526.679688  57010.562500   \n",
       "\n",
       "        Adj Close        Volume  \n",
       "860  53967.847656  3.480087e+10  \n",
       "861  54968.222656  3.249121e+10  \n",
       "862  54771.578125  3.952779e+10  \n",
       "863  57484.789063  4.263733e+10  \n",
       "864  57010.562500  4.110214e+10  "
      ]
     },
     "execution_count": 10,
     "metadata": {},
     "output_type": "execute_result"
    }
   ],
   "source": [
    "bitcoin.tail(5)"
   ]
  },
  {
   "cell_type": "markdown",
   "id": "02b7dff0",
   "metadata": {},
   "source": [
    "### Missing values "
   ]
  },
  {
   "cell_type": "code",
   "execution_count": 11,
   "id": "59f91669",
   "metadata": {
    "ExecuteTime": {
     "end_time": "2021-10-12T04:44:17.654504Z",
     "start_time": "2021-10-12T04:44:17.626436Z"
    }
   },
   "outputs": [
    {
     "name": "stdout",
     "output_type": "stream",
     "text": [
      "Number of missing or NA values for each column out of 865 rows:          \n",
      " Date         0\n",
      "Open         4\n",
      "High         4\n",
      "Low          4\n",
      "Close        4\n",
      "Adj Close    4\n",
      "Volume       4\n",
      "dtype: int64\n",
      "########################################\n",
      "Percentage of missing or NA values for each column out of 865 rows:          \n",
      " Date         0.00\n",
      "Open         0.46\n",
      "High         0.46\n",
      "Low          0.46\n",
      "Close        0.46\n",
      "Adj Close    0.46\n",
      "Volume       0.46\n",
      "dtype: float64\n"
     ]
    }
   ],
   "source": [
    "check_missing(bitcoin)"
   ]
  },
  {
   "cell_type": "markdown",
   "id": "6a80ccda",
   "metadata": {},
   "source": [
    "only 4 rows out of 861 rows are missing - minimal impact on analyses. Check if they are important dates:"
   ]
  },
  {
   "cell_type": "code",
   "execution_count": 12,
   "id": "fc3270fb",
   "metadata": {
    "ExecuteTime": {
     "end_time": "2021-10-12T04:44:17.669834Z",
     "start_time": "2021-10-12T04:44:17.656048Z"
    },
    "scrolled": true
   },
   "outputs": [
    {
     "data": {
      "text/html": [
       "<div>\n",
       "<style scoped>\n",
       "    .dataframe tbody tr th:only-of-type {\n",
       "        vertical-align: middle;\n",
       "    }\n",
       "\n",
       "    .dataframe tbody tr th {\n",
       "        vertical-align: top;\n",
       "    }\n",
       "\n",
       "    .dataframe thead th {\n",
       "        text-align: right;\n",
       "    }\n",
       "</style>\n",
       "<table border=\"1\" class=\"dataframe\">\n",
       "  <thead>\n",
       "    <tr style=\"text-align: right;\">\n",
       "      <th></th>\n",
       "      <th>Date</th>\n",
       "      <th>Open</th>\n",
       "      <th>High</th>\n",
       "      <th>Low</th>\n",
       "      <th>Close</th>\n",
       "      <th>Adj Close</th>\n",
       "      <th>Volume</th>\n",
       "    </tr>\n",
       "  </thead>\n",
       "  <tbody>\n",
       "    <tr>\n",
       "      <th>321</th>\n",
       "      <td>2020-04-17</td>\n",
       "      <td>NaN</td>\n",
       "      <td>NaN</td>\n",
       "      <td>NaN</td>\n",
       "      <td>NaN</td>\n",
       "      <td>NaN</td>\n",
       "      <td>NaN</td>\n",
       "    </tr>\n",
       "    <tr>\n",
       "      <th>496</th>\n",
       "      <td>2020-10-09</td>\n",
       "      <td>NaN</td>\n",
       "      <td>NaN</td>\n",
       "      <td>NaN</td>\n",
       "      <td>NaN</td>\n",
       "      <td>NaN</td>\n",
       "      <td>NaN</td>\n",
       "    </tr>\n",
       "    <tr>\n",
       "      <th>499</th>\n",
       "      <td>2020-10-12</td>\n",
       "      <td>NaN</td>\n",
       "      <td>NaN</td>\n",
       "      <td>NaN</td>\n",
       "      <td>NaN</td>\n",
       "      <td>NaN</td>\n",
       "      <td>NaN</td>\n",
       "    </tr>\n",
       "    <tr>\n",
       "      <th>500</th>\n",
       "      <td>2020-10-13</td>\n",
       "      <td>NaN</td>\n",
       "      <td>NaN</td>\n",
       "      <td>NaN</td>\n",
       "      <td>NaN</td>\n",
       "      <td>NaN</td>\n",
       "      <td>NaN</td>\n",
       "    </tr>\n",
       "  </tbody>\n",
       "</table>\n",
       "</div>"
      ],
      "text/plain": [
       "           Date  Open  High  Low  Close  Adj Close  Volume\n",
       "321  2020-04-17   NaN   NaN  NaN    NaN        NaN     NaN\n",
       "496  2020-10-09   NaN   NaN  NaN    NaN        NaN     NaN\n",
       "499  2020-10-12   NaN   NaN  NaN    NaN        NaN     NaN\n",
       "500  2020-10-13   NaN   NaN  NaN    NaN        NaN     NaN"
      ]
     },
     "execution_count": 12,
     "metadata": {},
     "output_type": "execute_result"
    }
   ],
   "source": [
    "bitcoin.loc[bitcoin['Adj Close'].isnull(),:]"
   ]
  },
  {
   "cell_type": "markdown",
   "id": "4fccad84",
   "metadata": {},
   "source": [
    "Looks like perhaps the website was down for maintenance those few days. \n",
    "Since there's only 4 rows missing (0.46%), it will have minimal impact on subsequent analyses. \n",
    "\n",
    "Since bitcoin is an asset with very volatile price fluctuations, we **should not** fill those NA values as those filled values might not represent the value of central tendency for that asset/variable at that point in time. \n",
    "The similar concept will also be applied to other cryptocurrencies - since they are volatile price assets. "
   ]
  },
  {
   "cell_type": "markdown",
   "id": "c8849039",
   "metadata": {},
   "source": [
    "### Unique values"
   ]
  },
  {
   "cell_type": "code",
   "execution_count": 13,
   "id": "0740fa4e",
   "metadata": {
    "ExecuteTime": {
     "end_time": "2021-10-12T04:44:17.685312Z",
     "start_time": "2021-10-12T04:44:17.671338Z"
    },
    "scrolled": false
   },
   "outputs": [
    {
     "name": "stdout",
     "output_type": "stream",
     "text": [
      "Number of unique values for each column out of a total of 865 rows: \n",
      " Date         865\n",
      "Open         861\n",
      "High         861\n",
      "Low          861\n",
      "Close        861\n",
      "Adj Close    861\n",
      "Volume       861\n",
      "dtype: int64\n"
     ]
    }
   ],
   "source": [
    "check_unique(bitcoin)"
   ]
  },
  {
   "cell_type": "markdown",
   "id": "38c618cb",
   "metadata": {},
   "source": [
    "### Duplicates"
   ]
  },
  {
   "cell_type": "code",
   "execution_count": 14,
   "id": "3592df9d",
   "metadata": {
    "ExecuteTime": {
     "end_time": "2021-10-12T04:44:17.701227Z",
     "start_time": "2021-10-12T04:44:17.686312Z"
    }
   },
   "outputs": [
    {
     "name": "stdout",
     "output_type": "stream",
     "text": [
      "There are 0 complete duplicate rows in this dataset\n"
     ]
    }
   ],
   "source": [
    "print(f\"There are {bitcoin.duplicated().sum()} complete duplicate rows in this dataset\")"
   ]
  },
  {
   "cell_type": "markdown",
   "id": "33e37b19",
   "metadata": {},
   "source": [
    "### Convert data types "
   ]
  },
  {
   "cell_type": "code",
   "execution_count": 15,
   "id": "bc5723a9",
   "metadata": {
    "ExecuteTime": {
     "end_time": "2021-10-12T04:44:17.717079Z",
     "start_time": "2021-10-12T04:44:17.703147Z"
    }
   },
   "outputs": [],
   "source": [
    "bitcoin.Date = pd.to_datetime(\n",
    "    bitcoin.Date, \n",
    "    format= '%Y-%m-%d'\n",
    ")"
   ]
  },
  {
   "cell_type": "code",
   "execution_count": 16,
   "id": "ca00f1e5",
   "metadata": {
    "ExecuteTime": {
     "end_time": "2021-10-12T04:44:17.733397Z",
     "start_time": "2021-10-12T04:44:17.719012Z"
    },
    "scrolled": false
   },
   "outputs": [
    {
     "name": "stdout",
     "output_type": "stream",
     "text": [
      "<class 'pandas.core.frame.DataFrame'>\n",
      "RangeIndex: 865 entries, 0 to 864\n",
      "Data columns (total 7 columns):\n",
      " #   Column     Non-Null Count  Dtype         \n",
      "---  ------     --------------  -----         \n",
      " 0   Date       865 non-null    datetime64[ns]\n",
      " 1   Open       861 non-null    float64       \n",
      " 2   High       861 non-null    float64       \n",
      " 3   Low        861 non-null    float64       \n",
      " 4   Close      861 non-null    float64       \n",
      " 5   Adj Close  861 non-null    float64       \n",
      " 6   Volume     861 non-null    float64       \n",
      "dtypes: datetime64[ns](1), float64(6)\n",
      "memory usage: 47.4 KB\n"
     ]
    }
   ],
   "source": [
    "bitcoin.info()"
   ]
  },
  {
   "cell_type": "markdown",
   "id": "82e70b8d",
   "metadata": {},
   "source": [
    "### Set date as row index"
   ]
  },
  {
   "cell_type": "code",
   "execution_count": 17,
   "id": "b9b438f6",
   "metadata": {
    "ExecuteTime": {
     "end_time": "2021-10-12T04:44:17.749187Z",
     "start_time": "2021-10-12T04:44:17.735002Z"
    }
   },
   "outputs": [],
   "source": [
    "bitcoin = bitcoin.set_index('Date')"
   ]
  },
  {
   "cell_type": "markdown",
   "id": "c09bb63d",
   "metadata": {},
   "source": [
    "### Check date range"
   ]
  },
  {
   "cell_type": "code",
   "execution_count": 18,
   "id": "edab4422",
   "metadata": {
    "ExecuteTime": {
     "end_time": "2021-10-12T04:44:17.764536Z",
     "start_time": "2021-10-12T04:44:17.750966Z"
    }
   },
   "outputs": [
    {
     "data": {
      "text/plain": [
       "'2019-06-01'"
      ]
     },
     "execution_count": 18,
     "metadata": {},
     "output_type": "execute_result"
    }
   ],
   "source": [
    "str(bitcoin.index.date.min())"
   ]
  },
  {
   "cell_type": "code",
   "execution_count": 19,
   "id": "b05cd119",
   "metadata": {
    "ExecuteTime": {
     "end_time": "2021-10-12T04:44:17.780018Z",
     "start_time": "2021-10-12T04:44:17.766080Z"
    }
   },
   "outputs": [
    {
     "data": {
      "text/plain": [
       "'2021-10-12'"
      ]
     },
     "execution_count": 19,
     "metadata": {},
     "output_type": "execute_result"
    }
   ],
   "source": [
    "str(bitcoin.index.date.max())"
   ]
  },
  {
   "cell_type": "markdown",
   "id": "b5f7b1d1",
   "metadata": {},
   "source": [
    "### Rename column names"
   ]
  },
  {
   "cell_type": "code",
   "execution_count": 20,
   "id": "f64d1464",
   "metadata": {
    "ExecuteTime": {
     "end_time": "2021-10-12T04:44:17.795494Z",
     "start_time": "2021-10-12T04:44:17.781735Z"
    }
   },
   "outputs": [],
   "source": [
    "bitcoin = rename_col('BTC', bitcoin)"
   ]
  },
  {
   "cell_type": "code",
   "execution_count": 21,
   "id": "ded3ad8c",
   "metadata": {
    "ExecuteTime": {
     "end_time": "2021-10-12T04:44:17.810369Z",
     "start_time": "2021-10-12T04:44:17.797250Z"
    }
   },
   "outputs": [
    {
     "name": "stdout",
     "output_type": "stream",
     "text": [
      "<class 'pandas.core.frame.DataFrame'>\n",
      "DatetimeIndex: 865 entries, 2019-06-01 to 2021-10-12\n",
      "Data columns (total 6 columns):\n",
      " #   Column         Non-Null Count  Dtype  \n",
      "---  ------         --------------  -----  \n",
      " 0   Open_BTC       861 non-null    float64\n",
      " 1   High_BTC       861 non-null    float64\n",
      " 2   Low_BTC        861 non-null    float64\n",
      " 3   Close_BTC      861 non-null    float64\n",
      " 4   Adj Close_BTC  861 non-null    float64\n",
      " 5   Volume_BTC     861 non-null    float64\n",
      "dtypes: float64(6)\n",
      "memory usage: 47.3 KB\n"
     ]
    }
   ],
   "source": [
    "# Checking that it was done correctly\n",
    "bitcoin.info()"
   ]
  },
  {
   "cell_type": "markdown",
   "id": "9fb54912",
   "metadata": {},
   "source": [
    "### Index prices"
   ]
  },
  {
   "cell_type": "code",
   "execution_count": 22,
   "id": "a89a6568",
   "metadata": {
    "ExecuteTime": {
     "end_time": "2021-10-12T04:44:17.826307Z",
     "start_time": "2021-10-12T04:44:17.814394Z"
    }
   },
   "outputs": [],
   "source": [
    "bitcoin_indexed = index_prices(bitcoin)"
   ]
  },
  {
   "cell_type": "code",
   "execution_count": 23,
   "id": "f629f50e",
   "metadata": {
    "ExecuteTime": {
     "end_time": "2021-10-12T04:44:17.857385Z",
     "start_time": "2021-10-12T04:44:17.828839Z"
    }
   },
   "outputs": [
    {
     "data": {
      "text/html": [
       "<div>\n",
       "<style scoped>\n",
       "    .dataframe tbody tr th:only-of-type {\n",
       "        vertical-align: middle;\n",
       "    }\n",
       "\n",
       "    .dataframe tbody tr th {\n",
       "        vertical-align: top;\n",
       "    }\n",
       "\n",
       "    .dataframe thead th {\n",
       "        text-align: right;\n",
       "    }\n",
       "</style>\n",
       "<table border=\"1\" class=\"dataframe\">\n",
       "  <thead>\n",
       "    <tr style=\"text-align: right;\">\n",
       "      <th></th>\n",
       "      <th>Open_BTC</th>\n",
       "      <th>High_BTC</th>\n",
       "      <th>Low_BTC</th>\n",
       "      <th>Close_BTC</th>\n",
       "      <th>Adj Close_BTC</th>\n",
       "      <th>Volume_BTC</th>\n",
       "    </tr>\n",
       "    <tr>\n",
       "      <th>Date</th>\n",
       "      <th></th>\n",
       "      <th></th>\n",
       "      <th></th>\n",
       "      <th></th>\n",
       "      <th></th>\n",
       "      <th></th>\n",
       "    </tr>\n",
       "  </thead>\n",
       "  <tbody>\n",
       "    <tr>\n",
       "      <th>2019-06-01</th>\n",
       "      <td>100.000000</td>\n",
       "      <td>100.000000</td>\n",
       "      <td>100.000000</td>\n",
       "      <td>100.000000</td>\n",
       "      <td>100.000000</td>\n",
       "      <td>100.000000</td>\n",
       "    </tr>\n",
       "    <tr>\n",
       "      <th>2019-06-02</th>\n",
       "      <td>99.902422</td>\n",
       "      <td>102.129743</td>\n",
       "      <td>100.939179</td>\n",
       "      <td>102.089457</td>\n",
       "      <td>102.089457</td>\n",
       "      <td>90.118919</td>\n",
       "    </tr>\n",
       "    <tr>\n",
       "      <th>2019-06-03</th>\n",
       "      <td>101.958367</td>\n",
       "      <td>101.366855</td>\n",
       "      <td>96.729470</td>\n",
       "      <td>95.854498</td>\n",
       "      <td>95.854498</td>\n",
       "      <td>97.848695</td>\n",
       "    </tr>\n",
       "    <tr>\n",
       "      <th>2019-06-04</th>\n",
       "      <td>95.767888</td>\n",
       "      <td>95.193202</td>\n",
       "      <td>89.187279</td>\n",
       "      <td>90.001822</td>\n",
       "      <td>90.001822</td>\n",
       "      <td>109.433473</td>\n",
       "    </tr>\n",
       "    <tr>\n",
       "      <th>2019-06-05</th>\n",
       "      <td>89.858726</td>\n",
       "      <td>91.609263</td>\n",
       "      <td>90.415585</td>\n",
       "      <td>91.361703</td>\n",
       "      <td>91.361703</td>\n",
       "      <td>96.765518</td>\n",
       "    </tr>\n",
       "    <tr>\n",
       "      <th>...</th>\n",
       "      <td>...</td>\n",
       "      <td>...</td>\n",
       "      <td>...</td>\n",
       "      <td>...</td>\n",
       "      <td>...</td>\n",
       "      <td>...</td>\n",
       "    </tr>\n",
       "    <tr>\n",
       "      <th>2021-10-08</th>\n",
       "      <td>627.515157</td>\n",
       "      <td>648.337236</td>\n",
       "      <td>632.996052</td>\n",
       "      <td>630.169816</td>\n",
       "      <td>630.169816</td>\n",
       "      <td>154.750997</td>\n",
       "    </tr>\n",
       "    <tr>\n",
       "      <th>2021-10-09</th>\n",
       "      <td>629.003833</td>\n",
       "      <td>642.250296</td>\n",
       "      <td>633.551254</td>\n",
       "      <td>641.850959</td>\n",
       "      <td>641.850959</td>\n",
       "      <td>144.480491</td>\n",
       "    </tr>\n",
       "    <tr>\n",
       "      <th>2021-10-10</th>\n",
       "      <td>640.935932</td>\n",
       "      <td>653.882638</td>\n",
       "      <td>639.789636</td>\n",
       "      <td>639.554787</td>\n",
       "      <td>639.554787</td>\n",
       "      <td>175.770450</td>\n",
       "    </tr>\n",
       "    <tr>\n",
       "      <th>2021-10-11</th>\n",
       "      <td>638.385204</td>\n",
       "      <td>670.017566</td>\n",
       "      <td>642.802139</td>\n",
       "      <td>671.236310</td>\n",
       "      <td>671.236310</td>\n",
       "      <td>189.597813</td>\n",
       "    </tr>\n",
       "    <tr>\n",
       "      <th>2021-10-12</th>\n",
       "      <td>669.639980</td>\n",
       "      <td>665.621585</td>\n",
       "      <td>666.464175</td>\n",
       "      <td>665.698879</td>\n",
       "      <td>665.698879</td>\n",
       "      <td>182.771206</td>\n",
       "    </tr>\n",
       "  </tbody>\n",
       "</table>\n",
       "<p>865 rows × 6 columns</p>\n",
       "</div>"
      ],
      "text/plain": [
       "              Open_BTC    High_BTC     Low_BTC   Close_BTC  Adj Close_BTC  \\\n",
       "Date                                                                        \n",
       "2019-06-01  100.000000  100.000000  100.000000  100.000000     100.000000   \n",
       "2019-06-02   99.902422  102.129743  100.939179  102.089457     102.089457   \n",
       "2019-06-03  101.958367  101.366855   96.729470   95.854498      95.854498   \n",
       "2019-06-04   95.767888   95.193202   89.187279   90.001822      90.001822   \n",
       "2019-06-05   89.858726   91.609263   90.415585   91.361703      91.361703   \n",
       "...                ...         ...         ...         ...            ...   \n",
       "2021-10-08  627.515157  648.337236  632.996052  630.169816     630.169816   \n",
       "2021-10-09  629.003833  642.250296  633.551254  641.850959     641.850959   \n",
       "2021-10-10  640.935932  653.882638  639.789636  639.554787     639.554787   \n",
       "2021-10-11  638.385204  670.017566  642.802139  671.236310     671.236310   \n",
       "2021-10-12  669.639980  665.621585  666.464175  665.698879     665.698879   \n",
       "\n",
       "            Volume_BTC  \n",
       "Date                    \n",
       "2019-06-01  100.000000  \n",
       "2019-06-02   90.118919  \n",
       "2019-06-03   97.848695  \n",
       "2019-06-04  109.433473  \n",
       "2019-06-05   96.765518  \n",
       "...                ...  \n",
       "2021-10-08  154.750997  \n",
       "2021-10-09  144.480491  \n",
       "2021-10-10  175.770450  \n",
       "2021-10-11  189.597813  \n",
       "2021-10-12  182.771206  \n",
       "\n",
       "[865 rows x 6 columns]"
      ]
     },
     "execution_count": 23,
     "metadata": {},
     "output_type": "execute_result"
    }
   ],
   "source": [
    "# Checking the indexed dataframe\n",
    "bitcoin_indexed"
   ]
  },
  {
   "cell_type": "markdown",
   "id": "3564f8dc",
   "metadata": {},
   "source": [
    "Double checking that it was done correctly:"
   ]
  },
  {
   "cell_type": "code",
   "execution_count": 24,
   "id": "f3d95eb1",
   "metadata": {
    "ExecuteTime": {
     "end_time": "2021-10-12T04:44:17.887435Z",
     "start_time": "2021-10-12T04:44:17.859033Z"
    },
    "scrolled": false
   },
   "outputs": [
    {
     "data": {
      "text/html": [
       "<div>\n",
       "<style scoped>\n",
       "    .dataframe tbody tr th:only-of-type {\n",
       "        vertical-align: middle;\n",
       "    }\n",
       "\n",
       "    .dataframe tbody tr th {\n",
       "        vertical-align: top;\n",
       "    }\n",
       "\n",
       "    .dataframe thead th {\n",
       "        text-align: right;\n",
       "    }\n",
       "</style>\n",
       "<table border=\"1\" class=\"dataframe\">\n",
       "  <thead>\n",
       "    <tr style=\"text-align: right;\">\n",
       "      <th></th>\n",
       "      <th>Open_BTC</th>\n",
       "      <th>High_BTC</th>\n",
       "      <th>Low_BTC</th>\n",
       "      <th>Close_BTC</th>\n",
       "      <th>Adj Close_BTC</th>\n",
       "      <th>Volume_BTC</th>\n",
       "    </tr>\n",
       "    <tr>\n",
       "      <th>Date</th>\n",
       "      <th></th>\n",
       "      <th></th>\n",
       "      <th></th>\n",
       "      <th></th>\n",
       "      <th></th>\n",
       "      <th></th>\n",
       "    </tr>\n",
       "  </thead>\n",
       "  <tbody>\n",
       "    <tr>\n",
       "      <th>2019-06-01</th>\n",
       "      <td>8573.839844</td>\n",
       "      <td>8625.600586</td>\n",
       "      <td>8481.578125</td>\n",
       "      <td>8564.016602</td>\n",
       "      <td>8564.016602</td>\n",
       "      <td>2.248830e+10</td>\n",
       "    </tr>\n",
       "    <tr>\n",
       "      <th>2019-06-02</th>\n",
       "      <td>8565.473633</td>\n",
       "      <td>8809.303711</td>\n",
       "      <td>8561.235352</td>\n",
       "      <td>8742.958008</td>\n",
       "      <td>8742.958008</td>\n",
       "      <td>2.026622e+10</td>\n",
       "    </tr>\n",
       "    <tr>\n",
       "      <th>2019-06-03</th>\n",
       "      <td>8741.747070</td>\n",
       "      <td>8743.500000</td>\n",
       "      <td>8204.185547</td>\n",
       "      <td>8208.995117</td>\n",
       "      <td>8208.995117</td>\n",
       "      <td>2.200451e+10</td>\n",
       "    </tr>\n",
       "    <tr>\n",
       "      <th>2019-06-04</th>\n",
       "      <td>8210.985352</td>\n",
       "      <td>8210.985352</td>\n",
       "      <td>7564.488770</td>\n",
       "      <td>7707.770996</td>\n",
       "      <td>7707.770996</td>\n",
       "      <td>2.460973e+10</td>\n",
       "    </tr>\n",
       "    <tr>\n",
       "      <th>2019-06-05</th>\n",
       "      <td>7704.343262</td>\n",
       "      <td>7901.849121</td>\n",
       "      <td>7668.668457</td>\n",
       "      <td>7824.231445</td>\n",
       "      <td>7824.231445</td>\n",
       "      <td>2.176092e+10</td>\n",
       "    </tr>\n",
       "    <tr>\n",
       "      <th>...</th>\n",
       "      <td>...</td>\n",
       "      <td>...</td>\n",
       "      <td>...</td>\n",
       "      <td>...</td>\n",
       "      <td>...</td>\n",
       "      <td>...</td>\n",
       "    </tr>\n",
       "    <tr>\n",
       "      <th>2021-10-08</th>\n",
       "      <td>53802.144531</td>\n",
       "      <td>55922.980469</td>\n",
       "      <td>53688.054688</td>\n",
       "      <td>53967.847656</td>\n",
       "      <td>53967.847656</td>\n",
       "      <td>3.480087e+10</td>\n",
       "    </tr>\n",
       "    <tr>\n",
       "      <th>2021-10-09</th>\n",
       "      <td>53929.781250</td>\n",
       "      <td>55397.945313</td>\n",
       "      <td>53735.144531</td>\n",
       "      <td>54968.222656</td>\n",
       "      <td>54968.222656</td>\n",
       "      <td>3.249121e+10</td>\n",
       "    </tr>\n",
       "    <tr>\n",
       "      <th>2021-10-10</th>\n",
       "      <td>54952.820313</td>\n",
       "      <td>56401.304688</td>\n",
       "      <td>54264.257813</td>\n",
       "      <td>54771.578125</td>\n",
       "      <td>54771.578125</td>\n",
       "      <td>3.952779e+10</td>\n",
       "    </tr>\n",
       "    <tr>\n",
       "      <th>2021-10-11</th>\n",
       "      <td>54734.125000</td>\n",
       "      <td>57793.039063</td>\n",
       "      <td>54519.765625</td>\n",
       "      <td>57484.789063</td>\n",
       "      <td>57484.789063</td>\n",
       "      <td>4.263733e+10</td>\n",
       "    </tr>\n",
       "    <tr>\n",
       "      <th>2021-10-12</th>\n",
       "      <td>57413.859375</td>\n",
       "      <td>57413.859375</td>\n",
       "      <td>56526.679688</td>\n",
       "      <td>57010.562500</td>\n",
       "      <td>57010.562500</td>\n",
       "      <td>4.110214e+10</td>\n",
       "    </tr>\n",
       "  </tbody>\n",
       "</table>\n",
       "<p>865 rows × 6 columns</p>\n",
       "</div>"
      ],
      "text/plain": [
       "                Open_BTC      High_BTC       Low_BTC     Close_BTC  \\\n",
       "Date                                                                 \n",
       "2019-06-01   8573.839844   8625.600586   8481.578125   8564.016602   \n",
       "2019-06-02   8565.473633   8809.303711   8561.235352   8742.958008   \n",
       "2019-06-03   8741.747070   8743.500000   8204.185547   8208.995117   \n",
       "2019-06-04   8210.985352   8210.985352   7564.488770   7707.770996   \n",
       "2019-06-05   7704.343262   7901.849121   7668.668457   7824.231445   \n",
       "...                  ...           ...           ...           ...   \n",
       "2021-10-08  53802.144531  55922.980469  53688.054688  53967.847656   \n",
       "2021-10-09  53929.781250  55397.945313  53735.144531  54968.222656   \n",
       "2021-10-10  54952.820313  56401.304688  54264.257813  54771.578125   \n",
       "2021-10-11  54734.125000  57793.039063  54519.765625  57484.789063   \n",
       "2021-10-12  57413.859375  57413.859375  56526.679688  57010.562500   \n",
       "\n",
       "            Adj Close_BTC    Volume_BTC  \n",
       "Date                                     \n",
       "2019-06-01    8564.016602  2.248830e+10  \n",
       "2019-06-02    8742.958008  2.026622e+10  \n",
       "2019-06-03    8208.995117  2.200451e+10  \n",
       "2019-06-04    7707.770996  2.460973e+10  \n",
       "2019-06-05    7824.231445  2.176092e+10  \n",
       "...                   ...           ...  \n",
       "2021-10-08   53967.847656  3.480087e+10  \n",
       "2021-10-09   54968.222656  3.249121e+10  \n",
       "2021-10-10   54771.578125  3.952779e+10  \n",
       "2021-10-11   57484.789063  4.263733e+10  \n",
       "2021-10-12   57010.562500  4.110214e+10  \n",
       "\n",
       "[865 rows x 6 columns]"
      ]
     },
     "execution_count": 24,
     "metadata": {},
     "output_type": "execute_result"
    }
   ],
   "source": [
    "# Comparing with the original non-indexed dataframe\n",
    "bitcoin"
   ]
  },
  {
   "cell_type": "markdown",
   "id": "cc60e1eb",
   "metadata": {},
   "source": [
    "Check base price (price on 2019-06-01) for 'Adj Close_BTC':"
   ]
  },
  {
   "cell_type": "code",
   "execution_count": 25,
   "id": "c9329688",
   "metadata": {
    "ExecuteTime": {
     "end_time": "2021-10-12T04:44:17.903118Z",
     "start_time": "2021-10-12T04:44:17.889451Z"
    }
   },
   "outputs": [
    {
     "data": {
      "text/plain": [
       "8564.016602"
      ]
     },
     "execution_count": 25,
     "metadata": {},
     "output_type": "execute_result"
    }
   ],
   "source": [
    "base_price = bitcoin.loc['2019-06-01']['Adj Close_BTC']\n",
    "base_price"
   ]
  },
  {
   "cell_type": "markdown",
   "id": "c1153e9a",
   "metadata": {},
   "source": [
    "Check indexed price on 2019-06-02:"
   ]
  },
  {
   "cell_type": "code",
   "execution_count": 26,
   "id": "1a7fdfb1",
   "metadata": {
    "ExecuteTime": {
     "end_time": "2021-10-12T04:44:17.918421Z",
     "start_time": "2021-10-12T04:44:17.904118Z"
    },
    "scrolled": false
   },
   "outputs": [
    {
     "data": {
      "text/plain": [
       "102.08945655194329"
      ]
     },
     "execution_count": 26,
     "metadata": {},
     "output_type": "execute_result"
    }
   ],
   "source": [
    "bitcoin.loc['2019-06-02']['Adj Close_BTC'] / base_price*100"
   ]
  },
  {
   "cell_type": "code",
   "execution_count": 27,
   "id": "10a44c92",
   "metadata": {
    "ExecuteTime": {
     "end_time": "2021-10-12T04:44:17.934033Z",
     "start_time": "2021-10-12T04:44:17.920378Z"
    }
   },
   "outputs": [
    {
     "data": {
      "text/plain": [
       "102.08945655194329"
      ]
     },
     "execution_count": 27,
     "metadata": {},
     "output_type": "execute_result"
    }
   ],
   "source": [
    "bitcoin_indexed.loc['2019-06-02']['Adj Close_BTC']"
   ]
  },
  {
   "cell_type": "markdown",
   "id": "26651fef",
   "metadata": {},
   "source": [
    "Check indexed price on 2021-10-07: "
   ]
  },
  {
   "cell_type": "code",
   "execution_count": 28,
   "id": "003a469a",
   "metadata": {
    "ExecuteTime": {
     "end_time": "2021-10-12T04:44:17.949446Z",
     "start_time": "2021-10-12T04:44:17.935626Z"
    }
   },
   "outputs": [
    {
     "data": {
      "text/plain": [
       "628.2797765996204"
      ]
     },
     "execution_count": 28,
     "metadata": {},
     "output_type": "execute_result"
    }
   ],
   "source": [
    "bitcoin.loc['2021-10-07']['Adj Close_BTC'] / base_price*100"
   ]
  },
  {
   "cell_type": "code",
   "execution_count": 29,
   "id": "63e98f65",
   "metadata": {
    "ExecuteTime": {
     "end_time": "2021-10-12T04:44:17.964815Z",
     "start_time": "2021-10-12T04:44:17.951192Z"
    }
   },
   "outputs": [
    {
     "data": {
      "text/plain": [
       "628.2797765996204"
      ]
     },
     "execution_count": 29,
     "metadata": {},
     "output_type": "execute_result"
    }
   ],
   "source": [
    "bitcoin_indexed.loc['2021-10-07']['Adj Close_BTC']"
   ]
  },
  {
   "cell_type": "code",
   "execution_count": 30,
   "id": "d3b1ddb1",
   "metadata": {
    "ExecuteTime": {
     "end_time": "2021-10-12T04:44:17.980868Z",
     "start_time": "2021-10-12T04:44:17.966185Z"
    }
   },
   "outputs": [
    {
     "data": {
      "text/plain": [
       "True"
      ]
     },
     "execution_count": 30,
     "metadata": {},
     "output_type": "execute_result"
    }
   ],
   "source": [
    "bitcoin_indexed.loc['2021-10-07']['Adj Close_BTC'] == bitcoin.loc['2021-10-07']['Adj Close_BTC'] / base_price*100"
   ]
  },
  {
   "cell_type": "markdown",
   "id": "21a7d579",
   "metadata": {},
   "source": [
    "## GLDM"
   ]
  },
  {
   "cell_type": "markdown",
   "id": "c4d3505b",
   "metadata": {},
   "source": [
    "### Inspect dataset"
   ]
  },
  {
   "cell_type": "code",
   "execution_count": 31,
   "id": "d2c3232a",
   "metadata": {
    "ExecuteTime": {
     "end_time": "2021-10-12T04:44:17.996489Z",
     "start_time": "2021-10-12T04:44:17.982545Z"
    },
    "scrolled": true
   },
   "outputs": [
    {
     "name": "stdout",
     "output_type": "stream",
     "text": [
      "Number of rows and columns: (596, 7)\n"
     ]
    }
   ],
   "source": [
    "print(f\"Number of rows and columns: {gldm.shape}\")"
   ]
  },
  {
   "cell_type": "code",
   "execution_count": 32,
   "id": "8b3af3ee",
   "metadata": {
    "ExecuteTime": {
     "end_time": "2021-10-12T04:44:18.011740Z",
     "start_time": "2021-10-12T04:44:17.998489Z"
    },
    "scrolled": true
   },
   "outputs": [
    {
     "name": "stdout",
     "output_type": "stream",
     "text": [
      "<class 'pandas.core.frame.DataFrame'>\n",
      "RangeIndex: 596 entries, 0 to 595\n",
      "Data columns (total 7 columns):\n",
      " #   Column     Non-Null Count  Dtype  \n",
      "---  ------     --------------  -----  \n",
      " 0   Date       596 non-null    object \n",
      " 1   Open       596 non-null    float64\n",
      " 2   High       596 non-null    float64\n",
      " 3   Low        596 non-null    float64\n",
      " 4   Close      596 non-null    float64\n",
      " 5   Adj Close  596 non-null    float64\n",
      " 6   Volume     596 non-null    int64  \n",
      "dtypes: float64(5), int64(1), object(1)\n",
      "memory usage: 32.7+ KB\n"
     ]
    }
   ],
   "source": [
    "gldm.info()"
   ]
  },
  {
   "cell_type": "code",
   "execution_count": 33,
   "id": "b245928e",
   "metadata": {
    "ExecuteTime": {
     "end_time": "2021-10-12T04:44:18.027235Z",
     "start_time": "2021-10-12T04:44:18.013741Z"
    },
    "scrolled": true
   },
   "outputs": [
    {
     "data": {
      "text/html": [
       "<div>\n",
       "<style scoped>\n",
       "    .dataframe tbody tr th:only-of-type {\n",
       "        vertical-align: middle;\n",
       "    }\n",
       "\n",
       "    .dataframe tbody tr th {\n",
       "        vertical-align: top;\n",
       "    }\n",
       "\n",
       "    .dataframe thead th {\n",
       "        text-align: right;\n",
       "    }\n",
       "</style>\n",
       "<table border=\"1\" class=\"dataframe\">\n",
       "  <thead>\n",
       "    <tr style=\"text-align: right;\">\n",
       "      <th></th>\n",
       "      <th>Date</th>\n",
       "      <th>Open</th>\n",
       "      <th>High</th>\n",
       "      <th>Low</th>\n",
       "      <th>Close</th>\n",
       "      <th>Adj Close</th>\n",
       "      <th>Volume</th>\n",
       "    </tr>\n",
       "  </thead>\n",
       "  <tbody>\n",
       "    <tr>\n",
       "      <th>0</th>\n",
       "      <td>2019-06-03</td>\n",
       "      <td>13.13</td>\n",
       "      <td>13.26</td>\n",
       "      <td>13.11</td>\n",
       "      <td>13.23</td>\n",
       "      <td>13.23</td>\n",
       "      <td>1701600</td>\n",
       "    </tr>\n",
       "    <tr>\n",
       "      <th>1</th>\n",
       "      <td>2019-06-04</td>\n",
       "      <td>13.21</td>\n",
       "      <td>13.26</td>\n",
       "      <td>13.18</td>\n",
       "      <td>13.24</td>\n",
       "      <td>13.24</td>\n",
       "      <td>1044700</td>\n",
       "    </tr>\n",
       "    <tr>\n",
       "      <th>2</th>\n",
       "      <td>2019-06-05</td>\n",
       "      <td>13.35</td>\n",
       "      <td>13.37</td>\n",
       "      <td>13.26</td>\n",
       "      <td>13.27</td>\n",
       "      <td>13.27</td>\n",
       "      <td>1233200</td>\n",
       "    </tr>\n",
       "    <tr>\n",
       "      <th>3</th>\n",
       "      <td>2019-06-06</td>\n",
       "      <td>13.33</td>\n",
       "      <td>13.38</td>\n",
       "      <td>13.31</td>\n",
       "      <td>13.31</td>\n",
       "      <td>13.31</td>\n",
       "      <td>535500</td>\n",
       "    </tr>\n",
       "    <tr>\n",
       "      <th>4</th>\n",
       "      <td>2019-06-07</td>\n",
       "      <td>13.41</td>\n",
       "      <td>13.46</td>\n",
       "      <td>13.37</td>\n",
       "      <td>13.39</td>\n",
       "      <td>13.39</td>\n",
       "      <td>1170800</td>\n",
       "    </tr>\n",
       "  </tbody>\n",
       "</table>\n",
       "</div>"
      ],
      "text/plain": [
       "         Date   Open   High    Low  Close  Adj Close   Volume\n",
       "0  2019-06-03  13.13  13.26  13.11  13.23      13.23  1701600\n",
       "1  2019-06-04  13.21  13.26  13.18  13.24      13.24  1044700\n",
       "2  2019-06-05  13.35  13.37  13.26  13.27      13.27  1233200\n",
       "3  2019-06-06  13.33  13.38  13.31  13.31      13.31   535500\n",
       "4  2019-06-07  13.41  13.46  13.37  13.39      13.39  1170800"
      ]
     },
     "execution_count": 33,
     "metadata": {},
     "output_type": "execute_result"
    }
   ],
   "source": [
    "gldm.head(5)"
   ]
  },
  {
   "cell_type": "code",
   "execution_count": 34,
   "id": "24d74ab2",
   "metadata": {
    "ExecuteTime": {
     "end_time": "2021-10-12T04:44:18.042642Z",
     "start_time": "2021-10-12T04:44:18.028236Z"
    }
   },
   "outputs": [
    {
     "data": {
      "text/html": [
       "<div>\n",
       "<style scoped>\n",
       "    .dataframe tbody tr th:only-of-type {\n",
       "        vertical-align: middle;\n",
       "    }\n",
       "\n",
       "    .dataframe tbody tr th {\n",
       "        vertical-align: top;\n",
       "    }\n",
       "\n",
       "    .dataframe thead th {\n",
       "        text-align: right;\n",
       "    }\n",
       "</style>\n",
       "<table border=\"1\" class=\"dataframe\">\n",
       "  <thead>\n",
       "    <tr style=\"text-align: right;\">\n",
       "      <th></th>\n",
       "      <th>Date</th>\n",
       "      <th>Open</th>\n",
       "      <th>High</th>\n",
       "      <th>Low</th>\n",
       "      <th>Close</th>\n",
       "      <th>Adj Close</th>\n",
       "      <th>Volume</th>\n",
       "    </tr>\n",
       "  </thead>\n",
       "  <tbody>\n",
       "    <tr>\n",
       "      <th>591</th>\n",
       "      <td>2021-10-05</td>\n",
       "      <td>17.440001</td>\n",
       "      <td>17.528000</td>\n",
       "      <td>17.389999</td>\n",
       "      <td>17.500000</td>\n",
       "      <td>17.500000</td>\n",
       "      <td>2195700</td>\n",
       "    </tr>\n",
       "    <tr>\n",
       "      <th>592</th>\n",
       "      <td>2021-10-06</td>\n",
       "      <td>17.450001</td>\n",
       "      <td>17.548000</td>\n",
       "      <td>17.450001</td>\n",
       "      <td>17.530001</td>\n",
       "      <td>17.530001</td>\n",
       "      <td>2241800</td>\n",
       "    </tr>\n",
       "    <tr>\n",
       "      <th>593</th>\n",
       "      <td>2021-10-07</td>\n",
       "      <td>17.450001</td>\n",
       "      <td>17.525000</td>\n",
       "      <td>17.430000</td>\n",
       "      <td>17.459999</td>\n",
       "      <td>17.459999</td>\n",
       "      <td>1277600</td>\n",
       "    </tr>\n",
       "    <tr>\n",
       "      <th>594</th>\n",
       "      <td>2021-10-08</td>\n",
       "      <td>17.690001</td>\n",
       "      <td>17.690001</td>\n",
       "      <td>17.455999</td>\n",
       "      <td>17.469999</td>\n",
       "      <td>17.469999</td>\n",
       "      <td>2232900</td>\n",
       "    </tr>\n",
       "    <tr>\n",
       "      <th>595</th>\n",
       "      <td>2021-10-11</td>\n",
       "      <td>17.450001</td>\n",
       "      <td>17.497999</td>\n",
       "      <td>17.430000</td>\n",
       "      <td>17.430000</td>\n",
       "      <td>17.430000</td>\n",
       "      <td>959100</td>\n",
       "    </tr>\n",
       "  </tbody>\n",
       "</table>\n",
       "</div>"
      ],
      "text/plain": [
       "           Date       Open       High        Low      Close  Adj Close  \\\n",
       "591  2021-10-05  17.440001  17.528000  17.389999  17.500000  17.500000   \n",
       "592  2021-10-06  17.450001  17.548000  17.450001  17.530001  17.530001   \n",
       "593  2021-10-07  17.450001  17.525000  17.430000  17.459999  17.459999   \n",
       "594  2021-10-08  17.690001  17.690001  17.455999  17.469999  17.469999   \n",
       "595  2021-10-11  17.450001  17.497999  17.430000  17.430000  17.430000   \n",
       "\n",
       "      Volume  \n",
       "591  2195700  \n",
       "592  2241800  \n",
       "593  1277600  \n",
       "594  2232900  \n",
       "595   959100  "
      ]
     },
     "execution_count": 34,
     "metadata": {},
     "output_type": "execute_result"
    }
   ],
   "source": [
    "gldm.tail(5)"
   ]
  },
  {
   "cell_type": "markdown",
   "id": "f2fe2f2f",
   "metadata": {},
   "source": [
    "### Missing values "
   ]
  },
  {
   "cell_type": "code",
   "execution_count": 35,
   "id": "525c55f6",
   "metadata": {
    "ExecuteTime": {
     "end_time": "2021-10-12T04:44:18.058077Z",
     "start_time": "2021-10-12T04:44:18.043740Z"
    }
   },
   "outputs": [
    {
     "name": "stdout",
     "output_type": "stream",
     "text": [
      "Number of missing or NA values for each column out of 596 rows:          \n",
      " Date         0\n",
      "Open         0\n",
      "High         0\n",
      "Low          0\n",
      "Close        0\n",
      "Adj Close    0\n",
      "Volume       0\n",
      "dtype: int64\n",
      "########################################\n",
      "Percentage of missing or NA values for each column out of 596 rows:          \n",
      " Date         0.0\n",
      "Open         0.0\n",
      "High         0.0\n",
      "Low          0.0\n",
      "Close        0.0\n",
      "Adj Close    0.0\n",
      "Volume       0.0\n",
      "dtype: float64\n"
     ]
    }
   ],
   "source": [
    "check_missing(gldm)"
   ]
  },
  {
   "cell_type": "markdown",
   "id": "2e1403fe",
   "metadata": {},
   "source": [
    "### Unique values"
   ]
  },
  {
   "cell_type": "code",
   "execution_count": 36,
   "id": "d01483d2",
   "metadata": {
    "ExecuteTime": {
     "end_time": "2021-10-12T04:44:18.073203Z",
     "start_time": "2021-10-12T04:44:18.059649Z"
    },
    "scrolled": true
   },
   "outputs": [
    {
     "name": "stdout",
     "output_type": "stream",
     "text": [
      "Number of unique values for each column out of a total of 596 rows: \n",
      " Date         596\n",
      "Open         352\n",
      "High         446\n",
      "Low          432\n",
      "Close        362\n",
      "Adj Close    362\n",
      "Volume       591\n",
      "dtype: int64\n"
     ]
    }
   ],
   "source": [
    "check_unique(gldm)"
   ]
  },
  {
   "cell_type": "markdown",
   "id": "7ea6b00d",
   "metadata": {},
   "source": [
    "### Duplicates"
   ]
  },
  {
   "cell_type": "code",
   "execution_count": 37,
   "id": "7f6d289f",
   "metadata": {
    "ExecuteTime": {
     "end_time": "2021-10-12T04:44:18.088949Z",
     "start_time": "2021-10-12T04:44:18.074762Z"
    }
   },
   "outputs": [
    {
     "name": "stdout",
     "output_type": "stream",
     "text": [
      "There are 0 complete duplicate rows in this dataset\n"
     ]
    }
   ],
   "source": [
    "print(f\"There are {gldm.duplicated().sum()} complete duplicate rows in this dataset\")"
   ]
  },
  {
   "cell_type": "markdown",
   "id": "71427dc1",
   "metadata": {},
   "source": [
    "### Convert data types "
   ]
  },
  {
   "cell_type": "code",
   "execution_count": 38,
   "id": "ef01ea06",
   "metadata": {
    "ExecuteTime": {
     "end_time": "2021-10-12T04:44:18.105065Z",
     "start_time": "2021-10-12T04:44:18.090686Z"
    }
   },
   "outputs": [],
   "source": [
    "gldm.Date = pd.to_datetime(\n",
    "    gldm.Date, \n",
    "    format= '%Y-%m-%d'\n",
    ")"
   ]
  },
  {
   "cell_type": "code",
   "execution_count": 39,
   "id": "3c9d33b7",
   "metadata": {
    "ExecuteTime": {
     "end_time": "2021-10-12T04:44:18.120333Z",
     "start_time": "2021-10-12T04:44:18.106060Z"
    }
   },
   "outputs": [
    {
     "name": "stdout",
     "output_type": "stream",
     "text": [
      "<class 'pandas.core.frame.DataFrame'>\n",
      "RangeIndex: 596 entries, 0 to 595\n",
      "Data columns (total 7 columns):\n",
      " #   Column     Non-Null Count  Dtype         \n",
      "---  ------     --------------  -----         \n",
      " 0   Date       596 non-null    datetime64[ns]\n",
      " 1   Open       596 non-null    float64       \n",
      " 2   High       596 non-null    float64       \n",
      " 3   Low        596 non-null    float64       \n",
      " 4   Close      596 non-null    float64       \n",
      " 5   Adj Close  596 non-null    float64       \n",
      " 6   Volume     596 non-null    int64         \n",
      "dtypes: datetime64[ns](1), float64(5), int64(1)\n",
      "memory usage: 32.7 KB\n"
     ]
    }
   ],
   "source": [
    "# Checking that it was done correctly \n",
    "gldm.info()"
   ]
  },
  {
   "cell_type": "markdown",
   "id": "b68127bb",
   "metadata": {},
   "source": [
    "### Set date as row index"
   ]
  },
  {
   "cell_type": "code",
   "execution_count": 40,
   "id": "3a467fae",
   "metadata": {
    "ExecuteTime": {
     "end_time": "2021-10-12T04:44:18.135440Z",
     "start_time": "2021-10-12T04:44:18.121988Z"
    }
   },
   "outputs": [],
   "source": [
    "gldm = gldm.set_index('Date')"
   ]
  },
  {
   "cell_type": "markdown",
   "id": "d68077a7",
   "metadata": {},
   "source": [
    "### Check date range"
   ]
  },
  {
   "cell_type": "code",
   "execution_count": 41,
   "id": "b57e476f",
   "metadata": {
    "ExecuteTime": {
     "end_time": "2021-10-12T04:44:18.151010Z",
     "start_time": "2021-10-12T04:44:18.137129Z"
    }
   },
   "outputs": [
    {
     "data": {
      "text/plain": [
       "'2019-06-03'"
      ]
     },
     "execution_count": 41,
     "metadata": {},
     "output_type": "execute_result"
    }
   ],
   "source": [
    "str(gldm.index.date.min())"
   ]
  },
  {
   "cell_type": "code",
   "execution_count": 42,
   "id": "21d7b384",
   "metadata": {
    "ExecuteTime": {
     "end_time": "2021-10-12T04:44:18.166970Z",
     "start_time": "2021-10-12T04:44:18.152294Z"
    },
    "scrolled": true
   },
   "outputs": [
    {
     "data": {
      "text/plain": [
       "'2021-10-11'"
      ]
     },
     "execution_count": 42,
     "metadata": {},
     "output_type": "execute_result"
    }
   ],
   "source": [
    "str(gldm.index.date.max())"
   ]
  },
  {
   "cell_type": "markdown",
   "id": "e120f67f",
   "metadata": {},
   "source": [
    "### Rename column names"
   ]
  },
  {
   "cell_type": "code",
   "execution_count": 43,
   "id": "511db52a",
   "metadata": {
    "ExecuteTime": {
     "end_time": "2021-10-12T04:44:18.182161Z",
     "start_time": "2021-10-12T04:44:18.167969Z"
    }
   },
   "outputs": [],
   "source": [
    "gldm = rename_col('GLDM', gldm)"
   ]
  },
  {
   "cell_type": "code",
   "execution_count": 44,
   "id": "d27152ad",
   "metadata": {
    "ExecuteTime": {
     "end_time": "2021-10-12T04:44:18.197756Z",
     "start_time": "2021-10-12T04:44:18.183161Z"
    }
   },
   "outputs": [
    {
     "name": "stdout",
     "output_type": "stream",
     "text": [
      "<class 'pandas.core.frame.DataFrame'>\n",
      "DatetimeIndex: 596 entries, 2019-06-03 to 2021-10-11\n",
      "Data columns (total 6 columns):\n",
      " #   Column          Non-Null Count  Dtype  \n",
      "---  ------          --------------  -----  \n",
      " 0   Open_GLDM       596 non-null    float64\n",
      " 1   High_GLDM       596 non-null    float64\n",
      " 2   Low_GLDM        596 non-null    float64\n",
      " 3   Close_GLDM      596 non-null    float64\n",
      " 4   Adj Close_GLDM  596 non-null    float64\n",
      " 5   Volume_GLDM     596 non-null    int64  \n",
      "dtypes: float64(5), int64(1)\n",
      "memory usage: 32.6 KB\n"
     ]
    }
   ],
   "source": [
    "gldm.info()"
   ]
  },
  {
   "cell_type": "markdown",
   "id": "e63b1449",
   "metadata": {},
   "source": [
    "### Index prices"
   ]
  },
  {
   "cell_type": "code",
   "execution_count": 45,
   "id": "8b4caaa7",
   "metadata": {
    "ExecuteTime": {
     "end_time": "2021-10-12T04:44:18.212723Z",
     "start_time": "2021-10-12T04:44:18.198940Z"
    }
   },
   "outputs": [],
   "source": [
    "gldm_indexed = index_prices(gldm)"
   ]
  },
  {
   "cell_type": "code",
   "execution_count": 46,
   "id": "23fb108e",
   "metadata": {
    "ExecuteTime": {
     "end_time": "2021-10-12T04:44:18.228747Z",
     "start_time": "2021-10-12T04:44:18.214223Z"
    },
    "scrolled": false
   },
   "outputs": [
    {
     "data": {
      "text/html": [
       "<div>\n",
       "<style scoped>\n",
       "    .dataframe tbody tr th:only-of-type {\n",
       "        vertical-align: middle;\n",
       "    }\n",
       "\n",
       "    .dataframe tbody tr th {\n",
       "        vertical-align: top;\n",
       "    }\n",
       "\n",
       "    .dataframe thead th {\n",
       "        text-align: right;\n",
       "    }\n",
       "</style>\n",
       "<table border=\"1\" class=\"dataframe\">\n",
       "  <thead>\n",
       "    <tr style=\"text-align: right;\">\n",
       "      <th></th>\n",
       "      <th>Open_GLDM</th>\n",
       "      <th>High_GLDM</th>\n",
       "      <th>Low_GLDM</th>\n",
       "      <th>Close_GLDM</th>\n",
       "      <th>Adj Close_GLDM</th>\n",
       "      <th>Volume_GLDM</th>\n",
       "    </tr>\n",
       "    <tr>\n",
       "      <th>Date</th>\n",
       "      <th></th>\n",
       "      <th></th>\n",
       "      <th></th>\n",
       "      <th></th>\n",
       "      <th></th>\n",
       "      <th></th>\n",
       "    </tr>\n",
       "  </thead>\n",
       "  <tbody>\n",
       "    <tr>\n",
       "      <th>2019-06-03</th>\n",
       "      <td>100.000000</td>\n",
       "      <td>100.000000</td>\n",
       "      <td>100.000000</td>\n",
       "      <td>100.000000</td>\n",
       "      <td>100.000000</td>\n",
       "      <td>100.000000</td>\n",
       "    </tr>\n",
       "    <tr>\n",
       "      <th>2019-06-04</th>\n",
       "      <td>100.609292</td>\n",
       "      <td>100.000000</td>\n",
       "      <td>100.533944</td>\n",
       "      <td>100.075586</td>\n",
       "      <td>100.075586</td>\n",
       "      <td>61.395157</td>\n",
       "    </tr>\n",
       "    <tr>\n",
       "      <th>2019-06-05</th>\n",
       "      <td>101.675552</td>\n",
       "      <td>100.829563</td>\n",
       "      <td>101.144165</td>\n",
       "      <td>100.302343</td>\n",
       "      <td>100.302343</td>\n",
       "      <td>72.472967</td>\n",
       "    </tr>\n",
       "    <tr>\n",
       "      <th>2019-06-06</th>\n",
       "      <td>101.523229</td>\n",
       "      <td>100.904977</td>\n",
       "      <td>101.525553</td>\n",
       "      <td>100.604686</td>\n",
       "      <td>100.604686</td>\n",
       "      <td>31.470381</td>\n",
       "    </tr>\n",
       "    <tr>\n",
       "      <th>2019-06-07</th>\n",
       "      <td>102.132521</td>\n",
       "      <td>101.508296</td>\n",
       "      <td>101.983219</td>\n",
       "      <td>101.209373</td>\n",
       "      <td>101.209373</td>\n",
       "      <td>68.805830</td>\n",
       "    </tr>\n",
       "    <tr>\n",
       "      <th>...</th>\n",
       "      <td>...</td>\n",
       "      <td>...</td>\n",
       "      <td>...</td>\n",
       "      <td>...</td>\n",
       "      <td>...</td>\n",
       "      <td>...</td>\n",
       "    </tr>\n",
       "    <tr>\n",
       "      <th>2021-10-05</th>\n",
       "      <td>132.825598</td>\n",
       "      <td>132.187029</td>\n",
       "      <td>132.646827</td>\n",
       "      <td>132.275132</td>\n",
       "      <td>132.275132</td>\n",
       "      <td>129.037377</td>\n",
       "    </tr>\n",
       "    <tr>\n",
       "      <th>2021-10-06</th>\n",
       "      <td>132.901759</td>\n",
       "      <td>132.337858</td>\n",
       "      <td>133.104508</td>\n",
       "      <td>132.501897</td>\n",
       "      <td>132.501897</td>\n",
       "      <td>131.746591</td>\n",
       "    </tr>\n",
       "    <tr>\n",
       "      <th>2021-10-07</th>\n",
       "      <td>132.901759</td>\n",
       "      <td>132.164404</td>\n",
       "      <td>132.951945</td>\n",
       "      <td>131.972782</td>\n",
       "      <td>131.972782</td>\n",
       "      <td>75.082276</td>\n",
       "    </tr>\n",
       "    <tr>\n",
       "      <th>2021-10-08</th>\n",
       "      <td>134.729634</td>\n",
       "      <td>133.408756</td>\n",
       "      <td>133.150259</td>\n",
       "      <td>132.048367</td>\n",
       "      <td>132.048367</td>\n",
       "      <td>131.223554</td>\n",
       "    </tr>\n",
       "    <tr>\n",
       "      <th>2021-10-11</th>\n",
       "      <td>132.901759</td>\n",
       "      <td>131.960777</td>\n",
       "      <td>132.951945</td>\n",
       "      <td>131.746032</td>\n",
       "      <td>131.746032</td>\n",
       "      <td>56.364598</td>\n",
       "    </tr>\n",
       "  </tbody>\n",
       "</table>\n",
       "<p>596 rows × 6 columns</p>\n",
       "</div>"
      ],
      "text/plain": [
       "             Open_GLDM   High_GLDM    Low_GLDM  Close_GLDM  Adj Close_GLDM  \\\n",
       "Date                                                                         \n",
       "2019-06-03  100.000000  100.000000  100.000000  100.000000      100.000000   \n",
       "2019-06-04  100.609292  100.000000  100.533944  100.075586      100.075586   \n",
       "2019-06-05  101.675552  100.829563  101.144165  100.302343      100.302343   \n",
       "2019-06-06  101.523229  100.904977  101.525553  100.604686      100.604686   \n",
       "2019-06-07  102.132521  101.508296  101.983219  101.209373      101.209373   \n",
       "...                ...         ...         ...         ...             ...   \n",
       "2021-10-05  132.825598  132.187029  132.646827  132.275132      132.275132   \n",
       "2021-10-06  132.901759  132.337858  133.104508  132.501897      132.501897   \n",
       "2021-10-07  132.901759  132.164404  132.951945  131.972782      131.972782   \n",
       "2021-10-08  134.729634  133.408756  133.150259  132.048367      132.048367   \n",
       "2021-10-11  132.901759  131.960777  132.951945  131.746032      131.746032   \n",
       "\n",
       "            Volume_GLDM  \n",
       "Date                     \n",
       "2019-06-03   100.000000  \n",
       "2019-06-04    61.395157  \n",
       "2019-06-05    72.472967  \n",
       "2019-06-06    31.470381  \n",
       "2019-06-07    68.805830  \n",
       "...                 ...  \n",
       "2021-10-05   129.037377  \n",
       "2021-10-06   131.746591  \n",
       "2021-10-07    75.082276  \n",
       "2021-10-08   131.223554  \n",
       "2021-10-11    56.364598  \n",
       "\n",
       "[596 rows x 6 columns]"
      ]
     },
     "execution_count": 46,
     "metadata": {},
     "output_type": "execute_result"
    }
   ],
   "source": [
    "# Checking the indexed dataframe\n",
    "gldm_indexed"
   ]
  },
  {
   "cell_type": "code",
   "execution_count": 47,
   "id": "9632d363",
   "metadata": {
    "ExecuteTime": {
     "end_time": "2021-10-12T04:44:18.243883Z",
     "start_time": "2021-10-12T04:44:18.230269Z"
    }
   },
   "outputs": [
    {
     "data": {
      "text/html": [
       "<div>\n",
       "<style scoped>\n",
       "    .dataframe tbody tr th:only-of-type {\n",
       "        vertical-align: middle;\n",
       "    }\n",
       "\n",
       "    .dataframe tbody tr th {\n",
       "        vertical-align: top;\n",
       "    }\n",
       "\n",
       "    .dataframe thead th {\n",
       "        text-align: right;\n",
       "    }\n",
       "</style>\n",
       "<table border=\"1\" class=\"dataframe\">\n",
       "  <thead>\n",
       "    <tr style=\"text-align: right;\">\n",
       "      <th></th>\n",
       "      <th>Open_GLDM</th>\n",
       "      <th>High_GLDM</th>\n",
       "      <th>Low_GLDM</th>\n",
       "      <th>Close_GLDM</th>\n",
       "      <th>Adj Close_GLDM</th>\n",
       "      <th>Volume_GLDM</th>\n",
       "    </tr>\n",
       "    <tr>\n",
       "      <th>Date</th>\n",
       "      <th></th>\n",
       "      <th></th>\n",
       "      <th></th>\n",
       "      <th></th>\n",
       "      <th></th>\n",
       "      <th></th>\n",
       "    </tr>\n",
       "  </thead>\n",
       "  <tbody>\n",
       "    <tr>\n",
       "      <th>2019-06-03</th>\n",
       "      <td>13.130000</td>\n",
       "      <td>13.260000</td>\n",
       "      <td>13.110000</td>\n",
       "      <td>13.230000</td>\n",
       "      <td>13.230000</td>\n",
       "      <td>1701600</td>\n",
       "    </tr>\n",
       "    <tr>\n",
       "      <th>2019-06-04</th>\n",
       "      <td>13.210000</td>\n",
       "      <td>13.260000</td>\n",
       "      <td>13.180000</td>\n",
       "      <td>13.240000</td>\n",
       "      <td>13.240000</td>\n",
       "      <td>1044700</td>\n",
       "    </tr>\n",
       "    <tr>\n",
       "      <th>2019-06-05</th>\n",
       "      <td>13.350000</td>\n",
       "      <td>13.370000</td>\n",
       "      <td>13.260000</td>\n",
       "      <td>13.270000</td>\n",
       "      <td>13.270000</td>\n",
       "      <td>1233200</td>\n",
       "    </tr>\n",
       "    <tr>\n",
       "      <th>2019-06-06</th>\n",
       "      <td>13.330000</td>\n",
       "      <td>13.380000</td>\n",
       "      <td>13.310000</td>\n",
       "      <td>13.310000</td>\n",
       "      <td>13.310000</td>\n",
       "      <td>535500</td>\n",
       "    </tr>\n",
       "    <tr>\n",
       "      <th>2019-06-07</th>\n",
       "      <td>13.410000</td>\n",
       "      <td>13.460000</td>\n",
       "      <td>13.370000</td>\n",
       "      <td>13.390000</td>\n",
       "      <td>13.390000</td>\n",
       "      <td>1170800</td>\n",
       "    </tr>\n",
       "    <tr>\n",
       "      <th>...</th>\n",
       "      <td>...</td>\n",
       "      <td>...</td>\n",
       "      <td>...</td>\n",
       "      <td>...</td>\n",
       "      <td>...</td>\n",
       "      <td>...</td>\n",
       "    </tr>\n",
       "    <tr>\n",
       "      <th>2021-10-05</th>\n",
       "      <td>17.440001</td>\n",
       "      <td>17.528000</td>\n",
       "      <td>17.389999</td>\n",
       "      <td>17.500000</td>\n",
       "      <td>17.500000</td>\n",
       "      <td>2195700</td>\n",
       "    </tr>\n",
       "    <tr>\n",
       "      <th>2021-10-06</th>\n",
       "      <td>17.450001</td>\n",
       "      <td>17.548000</td>\n",
       "      <td>17.450001</td>\n",
       "      <td>17.530001</td>\n",
       "      <td>17.530001</td>\n",
       "      <td>2241800</td>\n",
       "    </tr>\n",
       "    <tr>\n",
       "      <th>2021-10-07</th>\n",
       "      <td>17.450001</td>\n",
       "      <td>17.525000</td>\n",
       "      <td>17.430000</td>\n",
       "      <td>17.459999</td>\n",
       "      <td>17.459999</td>\n",
       "      <td>1277600</td>\n",
       "    </tr>\n",
       "    <tr>\n",
       "      <th>2021-10-08</th>\n",
       "      <td>17.690001</td>\n",
       "      <td>17.690001</td>\n",
       "      <td>17.455999</td>\n",
       "      <td>17.469999</td>\n",
       "      <td>17.469999</td>\n",
       "      <td>2232900</td>\n",
       "    </tr>\n",
       "    <tr>\n",
       "      <th>2021-10-11</th>\n",
       "      <td>17.450001</td>\n",
       "      <td>17.497999</td>\n",
       "      <td>17.430000</td>\n",
       "      <td>17.430000</td>\n",
       "      <td>17.430000</td>\n",
       "      <td>959100</td>\n",
       "    </tr>\n",
       "  </tbody>\n",
       "</table>\n",
       "<p>596 rows × 6 columns</p>\n",
       "</div>"
      ],
      "text/plain": [
       "            Open_GLDM  High_GLDM   Low_GLDM  Close_GLDM  Adj Close_GLDM  \\\n",
       "Date                                                                      \n",
       "2019-06-03  13.130000  13.260000  13.110000   13.230000       13.230000   \n",
       "2019-06-04  13.210000  13.260000  13.180000   13.240000       13.240000   \n",
       "2019-06-05  13.350000  13.370000  13.260000   13.270000       13.270000   \n",
       "2019-06-06  13.330000  13.380000  13.310000   13.310000       13.310000   \n",
       "2019-06-07  13.410000  13.460000  13.370000   13.390000       13.390000   \n",
       "...               ...        ...        ...         ...             ...   \n",
       "2021-10-05  17.440001  17.528000  17.389999   17.500000       17.500000   \n",
       "2021-10-06  17.450001  17.548000  17.450001   17.530001       17.530001   \n",
       "2021-10-07  17.450001  17.525000  17.430000   17.459999       17.459999   \n",
       "2021-10-08  17.690001  17.690001  17.455999   17.469999       17.469999   \n",
       "2021-10-11  17.450001  17.497999  17.430000   17.430000       17.430000   \n",
       "\n",
       "            Volume_GLDM  \n",
       "Date                     \n",
       "2019-06-03      1701600  \n",
       "2019-06-04      1044700  \n",
       "2019-06-05      1233200  \n",
       "2019-06-06       535500  \n",
       "2019-06-07      1170800  \n",
       "...                 ...  \n",
       "2021-10-05      2195700  \n",
       "2021-10-06      2241800  \n",
       "2021-10-07      1277600  \n",
       "2021-10-08      2232900  \n",
       "2021-10-11       959100  \n",
       "\n",
       "[596 rows x 6 columns]"
      ]
     },
     "execution_count": 47,
     "metadata": {},
     "output_type": "execute_result"
    }
   ],
   "source": [
    "# Comparing with the original non-indexed dataframe\n",
    "gldm"
   ]
  },
  {
   "cell_type": "markdown",
   "id": "124d436f",
   "metadata": {},
   "source": [
    "Check base price (price on 2019-06-03) for 'Adj Close_GLDM':"
   ]
  },
  {
   "cell_type": "code",
   "execution_count": 48,
   "id": "e80aae95",
   "metadata": {
    "ExecuteTime": {
     "end_time": "2021-10-12T04:44:18.259035Z",
     "start_time": "2021-10-12T04:44:18.245516Z"
    }
   },
   "outputs": [
    {
     "data": {
      "text/plain": [
       "13.23"
      ]
     },
     "execution_count": 48,
     "metadata": {},
     "output_type": "execute_result"
    }
   ],
   "source": [
    "base_price = gldm.loc['2019-06-03']['Adj Close_GLDM']\n",
    "base_price"
   ]
  },
  {
   "cell_type": "markdown",
   "id": "29836268",
   "metadata": {},
   "source": [
    "Check indexed price on 2019-06-04:"
   ]
  },
  {
   "cell_type": "code",
   "execution_count": 49,
   "id": "f79ef021",
   "metadata": {
    "ExecuteTime": {
     "end_time": "2021-10-12T04:44:18.274462Z",
     "start_time": "2021-10-12T04:44:18.260302Z"
    },
    "scrolled": false
   },
   "outputs": [
    {
     "data": {
      "text/plain": [
       "100.0755857898715"
      ]
     },
     "execution_count": 49,
     "metadata": {},
     "output_type": "execute_result"
    }
   ],
   "source": [
    "gldm.loc['2019-06-04']['Adj Close_GLDM'] / base_price*100"
   ]
  },
  {
   "cell_type": "code",
   "execution_count": 50,
   "id": "38d25fa2",
   "metadata": {
    "ExecuteTime": {
     "end_time": "2021-10-12T04:44:18.290479Z",
     "start_time": "2021-10-12T04:44:18.276012Z"
    }
   },
   "outputs": [
    {
     "data": {
      "text/plain": [
       "100.07558578987151"
      ]
     },
     "execution_count": 50,
     "metadata": {},
     "output_type": "execute_result"
    }
   ],
   "source": [
    "gldm_indexed.loc['2019-06-04']['Adj Close_GLDM']"
   ]
  },
  {
   "cell_type": "markdown",
   "id": "ff63179a",
   "metadata": {},
   "source": [
    "Check indexed price on 2021-10-07: "
   ]
  },
  {
   "cell_type": "code",
   "execution_count": 51,
   "id": "c997b201",
   "metadata": {
    "ExecuteTime": {
     "end_time": "2021-10-12T04:44:18.305609Z",
     "start_time": "2021-10-12T04:44:18.291479Z"
    }
   },
   "outputs": [
    {
     "data": {
      "text/plain": [
       "131.97278155706726"
      ]
     },
     "execution_count": 51,
     "metadata": {},
     "output_type": "execute_result"
    }
   ],
   "source": [
    "gldm.loc['2021-10-07']['Adj Close_GLDM'] / base_price*100"
   ]
  },
  {
   "cell_type": "code",
   "execution_count": 52,
   "id": "1c705677",
   "metadata": {
    "ExecuteTime": {
     "end_time": "2021-10-12T04:44:18.320844Z",
     "start_time": "2021-10-12T04:44:18.307401Z"
    }
   },
   "outputs": [
    {
     "data": {
      "text/plain": [
       "131.97278155706726"
      ]
     },
     "execution_count": 52,
     "metadata": {},
     "output_type": "execute_result"
    }
   ],
   "source": [
    "gldm_indexed.loc['2021-10-07']['Adj Close_GLDM']"
   ]
  },
  {
   "cell_type": "code",
   "execution_count": 53,
   "id": "82f25a50",
   "metadata": {
    "ExecuteTime": {
     "end_time": "2021-10-12T04:44:18.336729Z",
     "start_time": "2021-10-12T04:44:18.322345Z"
    }
   },
   "outputs": [
    {
     "data": {
      "text/plain": [
       "True"
      ]
     },
     "execution_count": 53,
     "metadata": {},
     "output_type": "execute_result"
    }
   ],
   "source": [
    "gldm.loc['2021-10-07']['Adj Close_GLDM'] / base_price*100 == gldm_indexed.loc['2021-10-07']['Adj Close_GLDM']"
   ]
  },
  {
   "cell_type": "markdown",
   "id": "7fa0381b",
   "metadata": {},
   "source": [
    "## Merge indexed bitcoin with GLDM"
   ]
  },
  {
   "cell_type": "code",
   "execution_count": 54,
   "id": "b5654067",
   "metadata": {
    "ExecuteTime": {
     "end_time": "2021-10-12T04:44:18.351914Z",
     "start_time": "2021-10-12T04:44:18.338875Z"
    }
   },
   "outputs": [],
   "source": [
    "df = pd.merge(\n",
    "    bitcoin_indexed, \n",
    "    gldm_indexed, \n",
    "    how='left', \n",
    "    left_index=True, \n",
    "    right_index=True\n",
    ")"
   ]
  },
  {
   "cell_type": "code",
   "execution_count": 55,
   "id": "03d7deba",
   "metadata": {
    "ExecuteTime": {
     "end_time": "2021-10-12T04:44:18.367270Z",
     "start_time": "2021-10-12T04:44:18.353464Z"
    },
    "scrolled": false
   },
   "outputs": [
    {
     "name": "stdout",
     "output_type": "stream",
     "text": [
      "<class 'pandas.core.frame.DataFrame'>\n",
      "DatetimeIndex: 865 entries, 2019-06-01 to 2021-10-12\n",
      "Data columns (total 12 columns):\n",
      " #   Column          Non-Null Count  Dtype  \n",
      "---  ------          --------------  -----  \n",
      " 0   Open_BTC        861 non-null    float64\n",
      " 1   High_BTC        861 non-null    float64\n",
      " 2   Low_BTC         861 non-null    float64\n",
      " 3   Close_BTC       861 non-null    float64\n",
      " 4   Adj Close_BTC   861 non-null    float64\n",
      " 5   Volume_BTC      861 non-null    float64\n",
      " 6   Open_GLDM       596 non-null    float64\n",
      " 7   High_GLDM       596 non-null    float64\n",
      " 8   Low_GLDM        596 non-null    float64\n",
      " 9   Close_GLDM      596 non-null    float64\n",
      " 10  Adj Close_GLDM  596 non-null    float64\n",
      " 11  Volume_GLDM     596 non-null    float64\n",
      "dtypes: float64(12)\n",
      "memory usage: 120.1 KB\n"
     ]
    }
   ],
   "source": [
    "# Double checking dataframe after the merge\n",
    "df.info()"
   ]
  },
  {
   "cell_type": "code",
   "execution_count": 56,
   "id": "bf8db318",
   "metadata": {
    "ExecuteTime": {
     "end_time": "2021-10-12T04:44:18.398483Z",
     "start_time": "2021-10-12T04:44:18.368771Z"
    }
   },
   "outputs": [
    {
     "data": {
      "text/html": [
       "<div>\n",
       "<style scoped>\n",
       "    .dataframe tbody tr th:only-of-type {\n",
       "        vertical-align: middle;\n",
       "    }\n",
       "\n",
       "    .dataframe tbody tr th {\n",
       "        vertical-align: top;\n",
       "    }\n",
       "\n",
       "    .dataframe thead th {\n",
       "        text-align: right;\n",
       "    }\n",
       "</style>\n",
       "<table border=\"1\" class=\"dataframe\">\n",
       "  <thead>\n",
       "    <tr style=\"text-align: right;\">\n",
       "      <th></th>\n",
       "      <th>Open_BTC</th>\n",
       "      <th>High_BTC</th>\n",
       "      <th>Low_BTC</th>\n",
       "      <th>Close_BTC</th>\n",
       "      <th>Adj Close_BTC</th>\n",
       "      <th>Volume_BTC</th>\n",
       "      <th>Open_GLDM</th>\n",
       "      <th>High_GLDM</th>\n",
       "      <th>Low_GLDM</th>\n",
       "      <th>Close_GLDM</th>\n",
       "      <th>Adj Close_GLDM</th>\n",
       "      <th>Volume_GLDM</th>\n",
       "    </tr>\n",
       "    <tr>\n",
       "      <th>Date</th>\n",
       "      <th></th>\n",
       "      <th></th>\n",
       "      <th></th>\n",
       "      <th></th>\n",
       "      <th></th>\n",
       "      <th></th>\n",
       "      <th></th>\n",
       "      <th></th>\n",
       "      <th></th>\n",
       "      <th></th>\n",
       "      <th></th>\n",
       "      <th></th>\n",
       "    </tr>\n",
       "  </thead>\n",
       "  <tbody>\n",
       "    <tr>\n",
       "      <th>2019-06-01</th>\n",
       "      <td>100.000000</td>\n",
       "      <td>100.000000</td>\n",
       "      <td>100.000000</td>\n",
       "      <td>100.000000</td>\n",
       "      <td>100.000000</td>\n",
       "      <td>100.000000</td>\n",
       "      <td>NaN</td>\n",
       "      <td>NaN</td>\n",
       "      <td>NaN</td>\n",
       "      <td>NaN</td>\n",
       "      <td>NaN</td>\n",
       "      <td>NaN</td>\n",
       "    </tr>\n",
       "    <tr>\n",
       "      <th>2019-06-02</th>\n",
       "      <td>99.902422</td>\n",
       "      <td>102.129743</td>\n",
       "      <td>100.939179</td>\n",
       "      <td>102.089457</td>\n",
       "      <td>102.089457</td>\n",
       "      <td>90.118919</td>\n",
       "      <td>NaN</td>\n",
       "      <td>NaN</td>\n",
       "      <td>NaN</td>\n",
       "      <td>NaN</td>\n",
       "      <td>NaN</td>\n",
       "      <td>NaN</td>\n",
       "    </tr>\n",
       "    <tr>\n",
       "      <th>2019-06-03</th>\n",
       "      <td>101.958367</td>\n",
       "      <td>101.366855</td>\n",
       "      <td>96.729470</td>\n",
       "      <td>95.854498</td>\n",
       "      <td>95.854498</td>\n",
       "      <td>97.848695</td>\n",
       "      <td>100.000000</td>\n",
       "      <td>100.000000</td>\n",
       "      <td>100.000000</td>\n",
       "      <td>100.000000</td>\n",
       "      <td>100.000000</td>\n",
       "      <td>100.000000</td>\n",
       "    </tr>\n",
       "    <tr>\n",
       "      <th>2019-06-04</th>\n",
       "      <td>95.767888</td>\n",
       "      <td>95.193202</td>\n",
       "      <td>89.187279</td>\n",
       "      <td>90.001822</td>\n",
       "      <td>90.001822</td>\n",
       "      <td>109.433473</td>\n",
       "      <td>100.609292</td>\n",
       "      <td>100.000000</td>\n",
       "      <td>100.533944</td>\n",
       "      <td>100.075586</td>\n",
       "      <td>100.075586</td>\n",
       "      <td>61.395157</td>\n",
       "    </tr>\n",
       "    <tr>\n",
       "      <th>2019-06-05</th>\n",
       "      <td>89.858726</td>\n",
       "      <td>91.609263</td>\n",
       "      <td>90.415585</td>\n",
       "      <td>91.361703</td>\n",
       "      <td>91.361703</td>\n",
       "      <td>96.765518</td>\n",
       "      <td>101.675552</td>\n",
       "      <td>100.829563</td>\n",
       "      <td>101.144165</td>\n",
       "      <td>100.302343</td>\n",
       "      <td>100.302343</td>\n",
       "      <td>72.472967</td>\n",
       "    </tr>\n",
       "    <tr>\n",
       "      <th>...</th>\n",
       "      <td>...</td>\n",
       "      <td>...</td>\n",
       "      <td>...</td>\n",
       "      <td>...</td>\n",
       "      <td>...</td>\n",
       "      <td>...</td>\n",
       "      <td>...</td>\n",
       "      <td>...</td>\n",
       "      <td>...</td>\n",
       "      <td>...</td>\n",
       "      <td>...</td>\n",
       "      <td>...</td>\n",
       "    </tr>\n",
       "    <tr>\n",
       "      <th>2021-10-08</th>\n",
       "      <td>627.515157</td>\n",
       "      <td>648.337236</td>\n",
       "      <td>632.996052</td>\n",
       "      <td>630.169816</td>\n",
       "      <td>630.169816</td>\n",
       "      <td>154.750997</td>\n",
       "      <td>134.729634</td>\n",
       "      <td>133.408756</td>\n",
       "      <td>133.150259</td>\n",
       "      <td>132.048367</td>\n",
       "      <td>132.048367</td>\n",
       "      <td>131.223554</td>\n",
       "    </tr>\n",
       "    <tr>\n",
       "      <th>2021-10-09</th>\n",
       "      <td>629.003833</td>\n",
       "      <td>642.250296</td>\n",
       "      <td>633.551254</td>\n",
       "      <td>641.850959</td>\n",
       "      <td>641.850959</td>\n",
       "      <td>144.480491</td>\n",
       "      <td>NaN</td>\n",
       "      <td>NaN</td>\n",
       "      <td>NaN</td>\n",
       "      <td>NaN</td>\n",
       "      <td>NaN</td>\n",
       "      <td>NaN</td>\n",
       "    </tr>\n",
       "    <tr>\n",
       "      <th>2021-10-10</th>\n",
       "      <td>640.935932</td>\n",
       "      <td>653.882638</td>\n",
       "      <td>639.789636</td>\n",
       "      <td>639.554787</td>\n",
       "      <td>639.554787</td>\n",
       "      <td>175.770450</td>\n",
       "      <td>NaN</td>\n",
       "      <td>NaN</td>\n",
       "      <td>NaN</td>\n",
       "      <td>NaN</td>\n",
       "      <td>NaN</td>\n",
       "      <td>NaN</td>\n",
       "    </tr>\n",
       "    <tr>\n",
       "      <th>2021-10-11</th>\n",
       "      <td>638.385204</td>\n",
       "      <td>670.017566</td>\n",
       "      <td>642.802139</td>\n",
       "      <td>671.236310</td>\n",
       "      <td>671.236310</td>\n",
       "      <td>189.597813</td>\n",
       "      <td>132.901759</td>\n",
       "      <td>131.960777</td>\n",
       "      <td>132.951945</td>\n",
       "      <td>131.746032</td>\n",
       "      <td>131.746032</td>\n",
       "      <td>56.364598</td>\n",
       "    </tr>\n",
       "    <tr>\n",
       "      <th>2021-10-12</th>\n",
       "      <td>669.639980</td>\n",
       "      <td>665.621585</td>\n",
       "      <td>666.464175</td>\n",
       "      <td>665.698879</td>\n",
       "      <td>665.698879</td>\n",
       "      <td>182.771206</td>\n",
       "      <td>NaN</td>\n",
       "      <td>NaN</td>\n",
       "      <td>NaN</td>\n",
       "      <td>NaN</td>\n",
       "      <td>NaN</td>\n",
       "      <td>NaN</td>\n",
       "    </tr>\n",
       "  </tbody>\n",
       "</table>\n",
       "<p>865 rows × 12 columns</p>\n",
       "</div>"
      ],
      "text/plain": [
       "              Open_BTC    High_BTC     Low_BTC   Close_BTC  Adj Close_BTC  \\\n",
       "Date                                                                        \n",
       "2019-06-01  100.000000  100.000000  100.000000  100.000000     100.000000   \n",
       "2019-06-02   99.902422  102.129743  100.939179  102.089457     102.089457   \n",
       "2019-06-03  101.958367  101.366855   96.729470   95.854498      95.854498   \n",
       "2019-06-04   95.767888   95.193202   89.187279   90.001822      90.001822   \n",
       "2019-06-05   89.858726   91.609263   90.415585   91.361703      91.361703   \n",
       "...                ...         ...         ...         ...            ...   \n",
       "2021-10-08  627.515157  648.337236  632.996052  630.169816     630.169816   \n",
       "2021-10-09  629.003833  642.250296  633.551254  641.850959     641.850959   \n",
       "2021-10-10  640.935932  653.882638  639.789636  639.554787     639.554787   \n",
       "2021-10-11  638.385204  670.017566  642.802139  671.236310     671.236310   \n",
       "2021-10-12  669.639980  665.621585  666.464175  665.698879     665.698879   \n",
       "\n",
       "            Volume_BTC   Open_GLDM   High_GLDM    Low_GLDM  Close_GLDM  \\\n",
       "Date                                                                     \n",
       "2019-06-01  100.000000         NaN         NaN         NaN         NaN   \n",
       "2019-06-02   90.118919         NaN         NaN         NaN         NaN   \n",
       "2019-06-03   97.848695  100.000000  100.000000  100.000000  100.000000   \n",
       "2019-06-04  109.433473  100.609292  100.000000  100.533944  100.075586   \n",
       "2019-06-05   96.765518  101.675552  100.829563  101.144165  100.302343   \n",
       "...                ...         ...         ...         ...         ...   \n",
       "2021-10-08  154.750997  134.729634  133.408756  133.150259  132.048367   \n",
       "2021-10-09  144.480491         NaN         NaN         NaN         NaN   \n",
       "2021-10-10  175.770450         NaN         NaN         NaN         NaN   \n",
       "2021-10-11  189.597813  132.901759  131.960777  132.951945  131.746032   \n",
       "2021-10-12  182.771206         NaN         NaN         NaN         NaN   \n",
       "\n",
       "            Adj Close_GLDM  Volume_GLDM  \n",
       "Date                                     \n",
       "2019-06-01             NaN          NaN  \n",
       "2019-06-02             NaN          NaN  \n",
       "2019-06-03      100.000000   100.000000  \n",
       "2019-06-04      100.075586    61.395157  \n",
       "2019-06-05      100.302343    72.472967  \n",
       "...                    ...          ...  \n",
       "2021-10-08      132.048367   131.223554  \n",
       "2021-10-09             NaN          NaN  \n",
       "2021-10-10             NaN          NaN  \n",
       "2021-10-11      131.746032    56.364598  \n",
       "2021-10-12             NaN          NaN  \n",
       "\n",
       "[865 rows x 12 columns]"
      ]
     },
     "execution_count": 56,
     "metadata": {},
     "output_type": "execute_result"
    }
   ],
   "source": [
    "# Double checking the dataframe \n",
    "df"
   ]
  },
  {
   "cell_type": "markdown",
   "id": "44c69cc6",
   "metadata": {},
   "source": [
    "### Dealing with the NA values due to missing weekend data for GLDM"
   ]
  },
  {
   "cell_type": "markdown",
   "id": "154cc329",
   "metadata": {},
   "source": [
    "**1. Mising GLDM values:**  \n",
    "\n",
    "As discussed earlier, by choosing to merge on bitcoin, there will be missing values for the GLDM data for the weekend dates as GLDM does not trade on weekends. \n",
    "- for GLDM chart values (adjusted closing price): we will backfill NA values for first 2 dates (since we do not have the data as 1 June 2019 is a Saturday), \n",
    "- for the other GLDM missing values, we can propagate last valid observation forward to next valid (forward fill) as that would reflect the price from Friday 'close' to Monday (i.e. when trading resumes)  \n",
    "\n",
    "**2. Missing bitcoin values:**\n",
    "- Since bitcoin is an asset with very volatile price fluctuations, we will not fill those NA values as those filled values might not represent the value of central tendency for that asset/variable at that point in time. We will just leave the 4 NA values for bitcoin as it is. "
   ]
  },
  {
   "cell_type": "code",
   "execution_count": 57,
   "id": "bb02ce5e",
   "metadata": {
    "ExecuteTime": {
     "end_time": "2021-10-12T04:44:18.414455Z",
     "start_time": "2021-10-12T04:44:18.399709Z"
    },
    "scrolled": true
   },
   "outputs": [
    {
     "data": {
      "text/plain": [
       "Open_BTC            4\n",
       "High_BTC            4\n",
       "Low_BTC             4\n",
       "Close_BTC           4\n",
       "Adj Close_BTC       4\n",
       "Volume_BTC          4\n",
       "Open_GLDM         269\n",
       "High_GLDM         269\n",
       "Low_GLDM          269\n",
       "Close_GLDM        269\n",
       "Adj Close_GLDM    269\n",
       "Volume_GLDM       269\n",
       "dtype: int64"
      ]
     },
     "execution_count": 57,
     "metadata": {},
     "output_type": "execute_result"
    }
   ],
   "source": [
    "# Double checking missing values: \n",
    "df.isnull().sum()"
   ]
  },
  {
   "cell_type": "code",
   "execution_count": 58,
   "id": "91c86aaf",
   "metadata": {
    "ExecuteTime": {
     "end_time": "2021-10-12T04:44:18.429732Z",
     "start_time": "2021-10-12T04:44:18.415455Z"
    }
   },
   "outputs": [
    {
     "data": {
      "text/plain": [
       "['Open_GLDM',\n",
       " 'High_GLDM',\n",
       " 'Low_GLDM',\n",
       " 'Close_GLDM',\n",
       " 'Adj Close_GLDM',\n",
       " 'Volume_GLDM']"
      ]
     },
     "execution_count": 58,
     "metadata": {},
     "output_type": "execute_result"
    }
   ],
   "source": [
    "gldm_cols = [col for col in df.columns.tolist() if 'GLDM' in col]\n",
    "gldm_cols"
   ]
  },
  {
   "cell_type": "code",
   "execution_count": 59,
   "id": "6a061658",
   "metadata": {
    "ExecuteTime": {
     "end_time": "2021-10-12T04:44:18.444475Z",
     "start_time": "2021-10-12T04:44:18.431232Z"
    }
   },
   "outputs": [],
   "source": [
    "df[gldm_cols] = df[gldm_cols].fillna(method='ffill')"
   ]
  },
  {
   "cell_type": "code",
   "execution_count": 60,
   "id": "723a1194",
   "metadata": {
    "ExecuteTime": {
     "end_time": "2021-10-12T04:44:18.459697Z",
     "start_time": "2021-10-12T04:44:18.446475Z"
    }
   },
   "outputs": [
    {
     "data": {
      "text/plain": [
       "Open_BTC          4\n",
       "High_BTC          4\n",
       "Low_BTC           4\n",
       "Close_BTC         4\n",
       "Adj Close_BTC     4\n",
       "Volume_BTC        4\n",
       "Open_GLDM         2\n",
       "High_GLDM         2\n",
       "Low_GLDM          2\n",
       "Close_GLDM        2\n",
       "Adj Close_GLDM    2\n",
       "Volume_GLDM       2\n",
       "dtype: int64"
      ]
     },
     "execution_count": 60,
     "metadata": {},
     "output_type": "execute_result"
    }
   ],
   "source": [
    "# Checking NAs after forward fill\n",
    "df.isnull().sum()"
   ]
  },
  {
   "cell_type": "code",
   "execution_count": 61,
   "id": "e7c98f48",
   "metadata": {
    "ExecuteTime": {
     "end_time": "2021-10-12T04:44:18.490910Z",
     "start_time": "2021-10-12T04:44:18.461429Z"
    }
   },
   "outputs": [
    {
     "data": {
      "text/html": [
       "<div>\n",
       "<style scoped>\n",
       "    .dataframe tbody tr th:only-of-type {\n",
       "        vertical-align: middle;\n",
       "    }\n",
       "\n",
       "    .dataframe tbody tr th {\n",
       "        vertical-align: top;\n",
       "    }\n",
       "\n",
       "    .dataframe thead th {\n",
       "        text-align: right;\n",
       "    }\n",
       "</style>\n",
       "<table border=\"1\" class=\"dataframe\">\n",
       "  <thead>\n",
       "    <tr style=\"text-align: right;\">\n",
       "      <th></th>\n",
       "      <th>Open_BTC</th>\n",
       "      <th>High_BTC</th>\n",
       "      <th>Low_BTC</th>\n",
       "      <th>Close_BTC</th>\n",
       "      <th>Adj Close_BTC</th>\n",
       "      <th>Volume_BTC</th>\n",
       "      <th>Open_GLDM</th>\n",
       "      <th>High_GLDM</th>\n",
       "      <th>Low_GLDM</th>\n",
       "      <th>Close_GLDM</th>\n",
       "      <th>Adj Close_GLDM</th>\n",
       "      <th>Volume_GLDM</th>\n",
       "    </tr>\n",
       "    <tr>\n",
       "      <th>Date</th>\n",
       "      <th></th>\n",
       "      <th></th>\n",
       "      <th></th>\n",
       "      <th></th>\n",
       "      <th></th>\n",
       "      <th></th>\n",
       "      <th></th>\n",
       "      <th></th>\n",
       "      <th></th>\n",
       "      <th></th>\n",
       "      <th></th>\n",
       "      <th></th>\n",
       "    </tr>\n",
       "  </thead>\n",
       "  <tbody>\n",
       "    <tr>\n",
       "      <th>2019-06-01</th>\n",
       "      <td>100.000000</td>\n",
       "      <td>100.000000</td>\n",
       "      <td>100.000000</td>\n",
       "      <td>100.000000</td>\n",
       "      <td>100.000000</td>\n",
       "      <td>100.000000</td>\n",
       "      <td>NaN</td>\n",
       "      <td>NaN</td>\n",
       "      <td>NaN</td>\n",
       "      <td>NaN</td>\n",
       "      <td>NaN</td>\n",
       "      <td>NaN</td>\n",
       "    </tr>\n",
       "    <tr>\n",
       "      <th>2019-06-02</th>\n",
       "      <td>99.902422</td>\n",
       "      <td>102.129743</td>\n",
       "      <td>100.939179</td>\n",
       "      <td>102.089457</td>\n",
       "      <td>102.089457</td>\n",
       "      <td>90.118919</td>\n",
       "      <td>NaN</td>\n",
       "      <td>NaN</td>\n",
       "      <td>NaN</td>\n",
       "      <td>NaN</td>\n",
       "      <td>NaN</td>\n",
       "      <td>NaN</td>\n",
       "    </tr>\n",
       "    <tr>\n",
       "      <th>2019-06-03</th>\n",
       "      <td>101.958367</td>\n",
       "      <td>101.366855</td>\n",
       "      <td>96.729470</td>\n",
       "      <td>95.854498</td>\n",
       "      <td>95.854498</td>\n",
       "      <td>97.848695</td>\n",
       "      <td>100.000000</td>\n",
       "      <td>100.000000</td>\n",
       "      <td>100.000000</td>\n",
       "      <td>100.000000</td>\n",
       "      <td>100.000000</td>\n",
       "      <td>100.000000</td>\n",
       "    </tr>\n",
       "    <tr>\n",
       "      <th>2019-06-04</th>\n",
       "      <td>95.767888</td>\n",
       "      <td>95.193202</td>\n",
       "      <td>89.187279</td>\n",
       "      <td>90.001822</td>\n",
       "      <td>90.001822</td>\n",
       "      <td>109.433473</td>\n",
       "      <td>100.609292</td>\n",
       "      <td>100.000000</td>\n",
       "      <td>100.533944</td>\n",
       "      <td>100.075586</td>\n",
       "      <td>100.075586</td>\n",
       "      <td>61.395157</td>\n",
       "    </tr>\n",
       "    <tr>\n",
       "      <th>2019-06-05</th>\n",
       "      <td>89.858726</td>\n",
       "      <td>91.609263</td>\n",
       "      <td>90.415585</td>\n",
       "      <td>91.361703</td>\n",
       "      <td>91.361703</td>\n",
       "      <td>96.765518</td>\n",
       "      <td>101.675552</td>\n",
       "      <td>100.829563</td>\n",
       "      <td>101.144165</td>\n",
       "      <td>100.302343</td>\n",
       "      <td>100.302343</td>\n",
       "      <td>72.472967</td>\n",
       "    </tr>\n",
       "    <tr>\n",
       "      <th>...</th>\n",
       "      <td>...</td>\n",
       "      <td>...</td>\n",
       "      <td>...</td>\n",
       "      <td>...</td>\n",
       "      <td>...</td>\n",
       "      <td>...</td>\n",
       "      <td>...</td>\n",
       "      <td>...</td>\n",
       "      <td>...</td>\n",
       "      <td>...</td>\n",
       "      <td>...</td>\n",
       "      <td>...</td>\n",
       "    </tr>\n",
       "    <tr>\n",
       "      <th>2021-10-08</th>\n",
       "      <td>627.515157</td>\n",
       "      <td>648.337236</td>\n",
       "      <td>632.996052</td>\n",
       "      <td>630.169816</td>\n",
       "      <td>630.169816</td>\n",
       "      <td>154.750997</td>\n",
       "      <td>134.729634</td>\n",
       "      <td>133.408756</td>\n",
       "      <td>133.150259</td>\n",
       "      <td>132.048367</td>\n",
       "      <td>132.048367</td>\n",
       "      <td>131.223554</td>\n",
       "    </tr>\n",
       "    <tr>\n",
       "      <th>2021-10-09</th>\n",
       "      <td>629.003833</td>\n",
       "      <td>642.250296</td>\n",
       "      <td>633.551254</td>\n",
       "      <td>641.850959</td>\n",
       "      <td>641.850959</td>\n",
       "      <td>144.480491</td>\n",
       "      <td>134.729634</td>\n",
       "      <td>133.408756</td>\n",
       "      <td>133.150259</td>\n",
       "      <td>132.048367</td>\n",
       "      <td>132.048367</td>\n",
       "      <td>131.223554</td>\n",
       "    </tr>\n",
       "    <tr>\n",
       "      <th>2021-10-10</th>\n",
       "      <td>640.935932</td>\n",
       "      <td>653.882638</td>\n",
       "      <td>639.789636</td>\n",
       "      <td>639.554787</td>\n",
       "      <td>639.554787</td>\n",
       "      <td>175.770450</td>\n",
       "      <td>134.729634</td>\n",
       "      <td>133.408756</td>\n",
       "      <td>133.150259</td>\n",
       "      <td>132.048367</td>\n",
       "      <td>132.048367</td>\n",
       "      <td>131.223554</td>\n",
       "    </tr>\n",
       "    <tr>\n",
       "      <th>2021-10-11</th>\n",
       "      <td>638.385204</td>\n",
       "      <td>670.017566</td>\n",
       "      <td>642.802139</td>\n",
       "      <td>671.236310</td>\n",
       "      <td>671.236310</td>\n",
       "      <td>189.597813</td>\n",
       "      <td>132.901759</td>\n",
       "      <td>131.960777</td>\n",
       "      <td>132.951945</td>\n",
       "      <td>131.746032</td>\n",
       "      <td>131.746032</td>\n",
       "      <td>56.364598</td>\n",
       "    </tr>\n",
       "    <tr>\n",
       "      <th>2021-10-12</th>\n",
       "      <td>669.639980</td>\n",
       "      <td>665.621585</td>\n",
       "      <td>666.464175</td>\n",
       "      <td>665.698879</td>\n",
       "      <td>665.698879</td>\n",
       "      <td>182.771206</td>\n",
       "      <td>132.901759</td>\n",
       "      <td>131.960777</td>\n",
       "      <td>132.951945</td>\n",
       "      <td>131.746032</td>\n",
       "      <td>131.746032</td>\n",
       "      <td>56.364598</td>\n",
       "    </tr>\n",
       "  </tbody>\n",
       "</table>\n",
       "<p>865 rows × 12 columns</p>\n",
       "</div>"
      ],
      "text/plain": [
       "              Open_BTC    High_BTC     Low_BTC   Close_BTC  Adj Close_BTC  \\\n",
       "Date                                                                        \n",
       "2019-06-01  100.000000  100.000000  100.000000  100.000000     100.000000   \n",
       "2019-06-02   99.902422  102.129743  100.939179  102.089457     102.089457   \n",
       "2019-06-03  101.958367  101.366855   96.729470   95.854498      95.854498   \n",
       "2019-06-04   95.767888   95.193202   89.187279   90.001822      90.001822   \n",
       "2019-06-05   89.858726   91.609263   90.415585   91.361703      91.361703   \n",
       "...                ...         ...         ...         ...            ...   \n",
       "2021-10-08  627.515157  648.337236  632.996052  630.169816     630.169816   \n",
       "2021-10-09  629.003833  642.250296  633.551254  641.850959     641.850959   \n",
       "2021-10-10  640.935932  653.882638  639.789636  639.554787     639.554787   \n",
       "2021-10-11  638.385204  670.017566  642.802139  671.236310     671.236310   \n",
       "2021-10-12  669.639980  665.621585  666.464175  665.698879     665.698879   \n",
       "\n",
       "            Volume_BTC   Open_GLDM   High_GLDM    Low_GLDM  Close_GLDM  \\\n",
       "Date                                                                     \n",
       "2019-06-01  100.000000         NaN         NaN         NaN         NaN   \n",
       "2019-06-02   90.118919         NaN         NaN         NaN         NaN   \n",
       "2019-06-03   97.848695  100.000000  100.000000  100.000000  100.000000   \n",
       "2019-06-04  109.433473  100.609292  100.000000  100.533944  100.075586   \n",
       "2019-06-05   96.765518  101.675552  100.829563  101.144165  100.302343   \n",
       "...                ...         ...         ...         ...         ...   \n",
       "2021-10-08  154.750997  134.729634  133.408756  133.150259  132.048367   \n",
       "2021-10-09  144.480491  134.729634  133.408756  133.150259  132.048367   \n",
       "2021-10-10  175.770450  134.729634  133.408756  133.150259  132.048367   \n",
       "2021-10-11  189.597813  132.901759  131.960777  132.951945  131.746032   \n",
       "2021-10-12  182.771206  132.901759  131.960777  132.951945  131.746032   \n",
       "\n",
       "            Adj Close_GLDM  Volume_GLDM  \n",
       "Date                                     \n",
       "2019-06-01             NaN          NaN  \n",
       "2019-06-02             NaN          NaN  \n",
       "2019-06-03      100.000000   100.000000  \n",
       "2019-06-04      100.075586    61.395157  \n",
       "2019-06-05      100.302343    72.472967  \n",
       "...                    ...          ...  \n",
       "2021-10-08      132.048367   131.223554  \n",
       "2021-10-09      132.048367   131.223554  \n",
       "2021-10-10      132.048367   131.223554  \n",
       "2021-10-11      131.746032    56.364598  \n",
       "2021-10-12      131.746032    56.364598  \n",
       "\n",
       "[865 rows x 12 columns]"
      ]
     },
     "execution_count": 61,
     "metadata": {},
     "output_type": "execute_result"
    }
   ],
   "source": [
    "# Double checking dataframe\n",
    "df"
   ]
  },
  {
   "cell_type": "code",
   "execution_count": 62,
   "id": "2454991c",
   "metadata": {
    "ExecuteTime": {
     "end_time": "2021-10-12T04:44:18.506118Z",
     "start_time": "2021-10-12T04:44:18.492410Z"
    }
   },
   "outputs": [],
   "source": [
    "# Backward fill the first 2 dates for GLDM\n",
    "df[gldm_cols] = df[gldm_cols].fillna(method='bfill')"
   ]
  },
  {
   "cell_type": "code",
   "execution_count": 63,
   "id": "c1c3e49e",
   "metadata": {
    "ExecuteTime": {
     "end_time": "2021-10-12T04:44:18.537032Z",
     "start_time": "2021-10-12T04:44:18.507617Z"
    }
   },
   "outputs": [
    {
     "data": {
      "text/html": [
       "<div>\n",
       "<style scoped>\n",
       "    .dataframe tbody tr th:only-of-type {\n",
       "        vertical-align: middle;\n",
       "    }\n",
       "\n",
       "    .dataframe tbody tr th {\n",
       "        vertical-align: top;\n",
       "    }\n",
       "\n",
       "    .dataframe thead th {\n",
       "        text-align: right;\n",
       "    }\n",
       "</style>\n",
       "<table border=\"1\" class=\"dataframe\">\n",
       "  <thead>\n",
       "    <tr style=\"text-align: right;\">\n",
       "      <th></th>\n",
       "      <th>Open_BTC</th>\n",
       "      <th>High_BTC</th>\n",
       "      <th>Low_BTC</th>\n",
       "      <th>Close_BTC</th>\n",
       "      <th>Adj Close_BTC</th>\n",
       "      <th>Volume_BTC</th>\n",
       "      <th>Open_GLDM</th>\n",
       "      <th>High_GLDM</th>\n",
       "      <th>Low_GLDM</th>\n",
       "      <th>Close_GLDM</th>\n",
       "      <th>Adj Close_GLDM</th>\n",
       "      <th>Volume_GLDM</th>\n",
       "    </tr>\n",
       "    <tr>\n",
       "      <th>Date</th>\n",
       "      <th></th>\n",
       "      <th></th>\n",
       "      <th></th>\n",
       "      <th></th>\n",
       "      <th></th>\n",
       "      <th></th>\n",
       "      <th></th>\n",
       "      <th></th>\n",
       "      <th></th>\n",
       "      <th></th>\n",
       "      <th></th>\n",
       "      <th></th>\n",
       "    </tr>\n",
       "  </thead>\n",
       "  <tbody>\n",
       "    <tr>\n",
       "      <th>2019-06-01</th>\n",
       "      <td>100.000000</td>\n",
       "      <td>100.000000</td>\n",
       "      <td>100.000000</td>\n",
       "      <td>100.000000</td>\n",
       "      <td>100.000000</td>\n",
       "      <td>100.000000</td>\n",
       "      <td>100.000000</td>\n",
       "      <td>100.000000</td>\n",
       "      <td>100.000000</td>\n",
       "      <td>100.000000</td>\n",
       "      <td>100.000000</td>\n",
       "      <td>100.000000</td>\n",
       "    </tr>\n",
       "    <tr>\n",
       "      <th>2019-06-02</th>\n",
       "      <td>99.902422</td>\n",
       "      <td>102.129743</td>\n",
       "      <td>100.939179</td>\n",
       "      <td>102.089457</td>\n",
       "      <td>102.089457</td>\n",
       "      <td>90.118919</td>\n",
       "      <td>100.000000</td>\n",
       "      <td>100.000000</td>\n",
       "      <td>100.000000</td>\n",
       "      <td>100.000000</td>\n",
       "      <td>100.000000</td>\n",
       "      <td>100.000000</td>\n",
       "    </tr>\n",
       "    <tr>\n",
       "      <th>2019-06-03</th>\n",
       "      <td>101.958367</td>\n",
       "      <td>101.366855</td>\n",
       "      <td>96.729470</td>\n",
       "      <td>95.854498</td>\n",
       "      <td>95.854498</td>\n",
       "      <td>97.848695</td>\n",
       "      <td>100.000000</td>\n",
       "      <td>100.000000</td>\n",
       "      <td>100.000000</td>\n",
       "      <td>100.000000</td>\n",
       "      <td>100.000000</td>\n",
       "      <td>100.000000</td>\n",
       "    </tr>\n",
       "    <tr>\n",
       "      <th>2019-06-04</th>\n",
       "      <td>95.767888</td>\n",
       "      <td>95.193202</td>\n",
       "      <td>89.187279</td>\n",
       "      <td>90.001822</td>\n",
       "      <td>90.001822</td>\n",
       "      <td>109.433473</td>\n",
       "      <td>100.609292</td>\n",
       "      <td>100.000000</td>\n",
       "      <td>100.533944</td>\n",
       "      <td>100.075586</td>\n",
       "      <td>100.075586</td>\n",
       "      <td>61.395157</td>\n",
       "    </tr>\n",
       "    <tr>\n",
       "      <th>2019-06-05</th>\n",
       "      <td>89.858726</td>\n",
       "      <td>91.609263</td>\n",
       "      <td>90.415585</td>\n",
       "      <td>91.361703</td>\n",
       "      <td>91.361703</td>\n",
       "      <td>96.765518</td>\n",
       "      <td>101.675552</td>\n",
       "      <td>100.829563</td>\n",
       "      <td>101.144165</td>\n",
       "      <td>100.302343</td>\n",
       "      <td>100.302343</td>\n",
       "      <td>72.472967</td>\n",
       "    </tr>\n",
       "    <tr>\n",
       "      <th>...</th>\n",
       "      <td>...</td>\n",
       "      <td>...</td>\n",
       "      <td>...</td>\n",
       "      <td>...</td>\n",
       "      <td>...</td>\n",
       "      <td>...</td>\n",
       "      <td>...</td>\n",
       "      <td>...</td>\n",
       "      <td>...</td>\n",
       "      <td>...</td>\n",
       "      <td>...</td>\n",
       "      <td>...</td>\n",
       "    </tr>\n",
       "    <tr>\n",
       "      <th>2021-10-08</th>\n",
       "      <td>627.515157</td>\n",
       "      <td>648.337236</td>\n",
       "      <td>632.996052</td>\n",
       "      <td>630.169816</td>\n",
       "      <td>630.169816</td>\n",
       "      <td>154.750997</td>\n",
       "      <td>134.729634</td>\n",
       "      <td>133.408756</td>\n",
       "      <td>133.150259</td>\n",
       "      <td>132.048367</td>\n",
       "      <td>132.048367</td>\n",
       "      <td>131.223554</td>\n",
       "    </tr>\n",
       "    <tr>\n",
       "      <th>2021-10-09</th>\n",
       "      <td>629.003833</td>\n",
       "      <td>642.250296</td>\n",
       "      <td>633.551254</td>\n",
       "      <td>641.850959</td>\n",
       "      <td>641.850959</td>\n",
       "      <td>144.480491</td>\n",
       "      <td>134.729634</td>\n",
       "      <td>133.408756</td>\n",
       "      <td>133.150259</td>\n",
       "      <td>132.048367</td>\n",
       "      <td>132.048367</td>\n",
       "      <td>131.223554</td>\n",
       "    </tr>\n",
       "    <tr>\n",
       "      <th>2021-10-10</th>\n",
       "      <td>640.935932</td>\n",
       "      <td>653.882638</td>\n",
       "      <td>639.789636</td>\n",
       "      <td>639.554787</td>\n",
       "      <td>639.554787</td>\n",
       "      <td>175.770450</td>\n",
       "      <td>134.729634</td>\n",
       "      <td>133.408756</td>\n",
       "      <td>133.150259</td>\n",
       "      <td>132.048367</td>\n",
       "      <td>132.048367</td>\n",
       "      <td>131.223554</td>\n",
       "    </tr>\n",
       "    <tr>\n",
       "      <th>2021-10-11</th>\n",
       "      <td>638.385204</td>\n",
       "      <td>670.017566</td>\n",
       "      <td>642.802139</td>\n",
       "      <td>671.236310</td>\n",
       "      <td>671.236310</td>\n",
       "      <td>189.597813</td>\n",
       "      <td>132.901759</td>\n",
       "      <td>131.960777</td>\n",
       "      <td>132.951945</td>\n",
       "      <td>131.746032</td>\n",
       "      <td>131.746032</td>\n",
       "      <td>56.364598</td>\n",
       "    </tr>\n",
       "    <tr>\n",
       "      <th>2021-10-12</th>\n",
       "      <td>669.639980</td>\n",
       "      <td>665.621585</td>\n",
       "      <td>666.464175</td>\n",
       "      <td>665.698879</td>\n",
       "      <td>665.698879</td>\n",
       "      <td>182.771206</td>\n",
       "      <td>132.901759</td>\n",
       "      <td>131.960777</td>\n",
       "      <td>132.951945</td>\n",
       "      <td>131.746032</td>\n",
       "      <td>131.746032</td>\n",
       "      <td>56.364598</td>\n",
       "    </tr>\n",
       "  </tbody>\n",
       "</table>\n",
       "<p>865 rows × 12 columns</p>\n",
       "</div>"
      ],
      "text/plain": [
       "              Open_BTC    High_BTC     Low_BTC   Close_BTC  Adj Close_BTC  \\\n",
       "Date                                                                        \n",
       "2019-06-01  100.000000  100.000000  100.000000  100.000000     100.000000   \n",
       "2019-06-02   99.902422  102.129743  100.939179  102.089457     102.089457   \n",
       "2019-06-03  101.958367  101.366855   96.729470   95.854498      95.854498   \n",
       "2019-06-04   95.767888   95.193202   89.187279   90.001822      90.001822   \n",
       "2019-06-05   89.858726   91.609263   90.415585   91.361703      91.361703   \n",
       "...                ...         ...         ...         ...            ...   \n",
       "2021-10-08  627.515157  648.337236  632.996052  630.169816     630.169816   \n",
       "2021-10-09  629.003833  642.250296  633.551254  641.850959     641.850959   \n",
       "2021-10-10  640.935932  653.882638  639.789636  639.554787     639.554787   \n",
       "2021-10-11  638.385204  670.017566  642.802139  671.236310     671.236310   \n",
       "2021-10-12  669.639980  665.621585  666.464175  665.698879     665.698879   \n",
       "\n",
       "            Volume_BTC   Open_GLDM   High_GLDM    Low_GLDM  Close_GLDM  \\\n",
       "Date                                                                     \n",
       "2019-06-01  100.000000  100.000000  100.000000  100.000000  100.000000   \n",
       "2019-06-02   90.118919  100.000000  100.000000  100.000000  100.000000   \n",
       "2019-06-03   97.848695  100.000000  100.000000  100.000000  100.000000   \n",
       "2019-06-04  109.433473  100.609292  100.000000  100.533944  100.075586   \n",
       "2019-06-05   96.765518  101.675552  100.829563  101.144165  100.302343   \n",
       "...                ...         ...         ...         ...         ...   \n",
       "2021-10-08  154.750997  134.729634  133.408756  133.150259  132.048367   \n",
       "2021-10-09  144.480491  134.729634  133.408756  133.150259  132.048367   \n",
       "2021-10-10  175.770450  134.729634  133.408756  133.150259  132.048367   \n",
       "2021-10-11  189.597813  132.901759  131.960777  132.951945  131.746032   \n",
       "2021-10-12  182.771206  132.901759  131.960777  132.951945  131.746032   \n",
       "\n",
       "            Adj Close_GLDM  Volume_GLDM  \n",
       "Date                                     \n",
       "2019-06-01      100.000000   100.000000  \n",
       "2019-06-02      100.000000   100.000000  \n",
       "2019-06-03      100.000000   100.000000  \n",
       "2019-06-04      100.075586    61.395157  \n",
       "2019-06-05      100.302343    72.472967  \n",
       "...                    ...          ...  \n",
       "2021-10-08      132.048367   131.223554  \n",
       "2021-10-09      132.048367   131.223554  \n",
       "2021-10-10      132.048367   131.223554  \n",
       "2021-10-11      131.746032    56.364598  \n",
       "2021-10-12      131.746032    56.364598  \n",
       "\n",
       "[865 rows x 12 columns]"
      ]
     },
     "execution_count": 63,
     "metadata": {},
     "output_type": "execute_result"
    }
   ],
   "source": [
    "# Double checking the dataframe \n",
    "df"
   ]
  },
  {
   "cell_type": "code",
   "execution_count": 64,
   "id": "68a820cb",
   "metadata": {
    "ExecuteTime": {
     "end_time": "2021-10-12T04:44:18.552196Z",
     "start_time": "2021-10-12T04:44:18.538032Z"
    }
   },
   "outputs": [
    {
     "data": {
      "text/plain": [
       "Open_BTC          4\n",
       "High_BTC          4\n",
       "Low_BTC           4\n",
       "Close_BTC         4\n",
       "Adj Close_BTC     4\n",
       "Volume_BTC        4\n",
       "Open_GLDM         0\n",
       "High_GLDM         0\n",
       "Low_GLDM          0\n",
       "Close_GLDM        0\n",
       "Adj Close_GLDM    0\n",
       "Volume_GLDM       0\n",
       "dtype: int64"
      ]
     },
     "execution_count": 64,
     "metadata": {},
     "output_type": "execute_result"
    }
   ],
   "source": [
    "# Double checking NAs after both fillna functions\n",
    "df.isnull().sum()"
   ]
  },
  {
   "cell_type": "code",
   "execution_count": 65,
   "id": "eb99cc6c",
   "metadata": {
    "ExecuteTime": {
     "end_time": "2021-10-12T04:44:18.567327Z",
     "start_time": "2021-10-12T04:44:18.553901Z"
    }
   },
   "outputs": [
    {
     "name": "stdout",
     "output_type": "stream",
     "text": [
      "<class 'pandas.core.frame.DataFrame'>\n",
      "DatetimeIndex: 865 entries, 2019-06-01 to 2021-10-12\n",
      "Data columns (total 12 columns):\n",
      " #   Column          Non-Null Count  Dtype  \n",
      "---  ------          --------------  -----  \n",
      " 0   Open_BTC        861 non-null    float64\n",
      " 1   High_BTC        861 non-null    float64\n",
      " 2   Low_BTC         861 non-null    float64\n",
      " 3   Close_BTC       861 non-null    float64\n",
      " 4   Adj Close_BTC   861 non-null    float64\n",
      " 5   Volume_BTC      861 non-null    float64\n",
      " 6   Open_GLDM       865 non-null    float64\n",
      " 7   High_GLDM       865 non-null    float64\n",
      " 8   Low_GLDM        865 non-null    float64\n",
      " 9   Close_GLDM      865 non-null    float64\n",
      " 10  Adj Close_GLDM  865 non-null    float64\n",
      " 11  Volume_GLDM     865 non-null    float64\n",
      "dtypes: float64(12)\n",
      "memory usage: 120.1 KB\n"
     ]
    }
   ],
   "source": [
    "# Checking overall df again\n",
    "df.info()"
   ]
  },
  {
   "cell_type": "markdown",
   "id": "e938cec9",
   "metadata": {},
   "source": [
    "## Get dataframe for linechart "
   ]
  },
  {
   "cell_type": "code",
   "execution_count": 66,
   "id": "1e7c3e8e",
   "metadata": {
    "ExecuteTime": {
     "end_time": "2021-10-12T04:44:18.582535Z",
     "start_time": "2021-10-12T04:44:18.568167Z"
    }
   },
   "outputs": [
    {
     "data": {
      "text/plain": [
       "['Adj Close_BTC', 'Adj Close_GLDM']"
      ]
     },
     "execution_count": 66,
     "metadata": {},
     "output_type": "execute_result"
    }
   ],
   "source": [
    "adj_close_cols = [col for col in df.columns.tolist() if col.startswith('Adj Close')]\n",
    "adj_close_cols"
   ]
  },
  {
   "cell_type": "code",
   "execution_count": 67,
   "id": "3f406965",
   "metadata": {
    "ExecuteTime": {
     "end_time": "2021-10-12T04:44:18.598039Z",
     "start_time": "2021-10-12T04:44:18.587442Z"
    }
   },
   "outputs": [],
   "source": [
    "linedata = df.loc[:, adj_close_cols]"
   ]
  },
  {
   "cell_type": "code",
   "execution_count": 68,
   "id": "a048dac8",
   "metadata": {
    "ExecuteTime": {
     "end_time": "2021-10-12T04:44:18.614301Z",
     "start_time": "2021-10-12T04:44:18.600055Z"
    }
   },
   "outputs": [
    {
     "data": {
      "text/html": [
       "<div>\n",
       "<style scoped>\n",
       "    .dataframe tbody tr th:only-of-type {\n",
       "        vertical-align: middle;\n",
       "    }\n",
       "\n",
       "    .dataframe tbody tr th {\n",
       "        vertical-align: top;\n",
       "    }\n",
       "\n",
       "    .dataframe thead th {\n",
       "        text-align: right;\n",
       "    }\n",
       "</style>\n",
       "<table border=\"1\" class=\"dataframe\">\n",
       "  <thead>\n",
       "    <tr style=\"text-align: right;\">\n",
       "      <th></th>\n",
       "      <th>Adj Close_BTC</th>\n",
       "      <th>Adj Close_GLDM</th>\n",
       "    </tr>\n",
       "    <tr>\n",
       "      <th>Date</th>\n",
       "      <th></th>\n",
       "      <th></th>\n",
       "    </tr>\n",
       "  </thead>\n",
       "  <tbody>\n",
       "    <tr>\n",
       "      <th>2019-06-01</th>\n",
       "      <td>100.000000</td>\n",
       "      <td>100.000000</td>\n",
       "    </tr>\n",
       "    <tr>\n",
       "      <th>2019-06-02</th>\n",
       "      <td>102.089457</td>\n",
       "      <td>100.000000</td>\n",
       "    </tr>\n",
       "    <tr>\n",
       "      <th>2019-06-03</th>\n",
       "      <td>95.854498</td>\n",
       "      <td>100.000000</td>\n",
       "    </tr>\n",
       "    <tr>\n",
       "      <th>2019-06-04</th>\n",
       "      <td>90.001822</td>\n",
       "      <td>100.075586</td>\n",
       "    </tr>\n",
       "    <tr>\n",
       "      <th>2019-06-05</th>\n",
       "      <td>91.361703</td>\n",
       "      <td>100.302343</td>\n",
       "    </tr>\n",
       "    <tr>\n",
       "      <th>...</th>\n",
       "      <td>...</td>\n",
       "      <td>...</td>\n",
       "    </tr>\n",
       "    <tr>\n",
       "      <th>2021-10-08</th>\n",
       "      <td>630.169816</td>\n",
       "      <td>132.048367</td>\n",
       "    </tr>\n",
       "    <tr>\n",
       "      <th>2021-10-09</th>\n",
       "      <td>641.850959</td>\n",
       "      <td>132.048367</td>\n",
       "    </tr>\n",
       "    <tr>\n",
       "      <th>2021-10-10</th>\n",
       "      <td>639.554787</td>\n",
       "      <td>132.048367</td>\n",
       "    </tr>\n",
       "    <tr>\n",
       "      <th>2021-10-11</th>\n",
       "      <td>671.236310</td>\n",
       "      <td>131.746032</td>\n",
       "    </tr>\n",
       "    <tr>\n",
       "      <th>2021-10-12</th>\n",
       "      <td>665.698879</td>\n",
       "      <td>131.746032</td>\n",
       "    </tr>\n",
       "  </tbody>\n",
       "</table>\n",
       "<p>865 rows × 2 columns</p>\n",
       "</div>"
      ],
      "text/plain": [
       "            Adj Close_BTC  Adj Close_GLDM\n",
       "Date                                     \n",
       "2019-06-01     100.000000      100.000000\n",
       "2019-06-02     102.089457      100.000000\n",
       "2019-06-03      95.854498      100.000000\n",
       "2019-06-04      90.001822      100.075586\n",
       "2019-06-05      91.361703      100.302343\n",
       "...                   ...             ...\n",
       "2021-10-08     630.169816      132.048367\n",
       "2021-10-09     641.850959      132.048367\n",
       "2021-10-10     639.554787      132.048367\n",
       "2021-10-11     671.236310      131.746032\n",
       "2021-10-12     665.698879      131.746032\n",
       "\n",
       "[865 rows x 2 columns]"
      ]
     },
     "execution_count": 68,
     "metadata": {},
     "output_type": "execute_result"
    }
   ],
   "source": [
    "# Checking the subsetted dataframe\n",
    "linedata"
   ]
  },
  {
   "cell_type": "code",
   "execution_count": 69,
   "id": "861e7e7f",
   "metadata": {
    "ExecuteTime": {
     "end_time": "2021-10-12T04:44:18.629720Z",
     "start_time": "2021-10-12T04:44:18.615866Z"
    }
   },
   "outputs": [],
   "source": [
    "# Rename column names\n",
    "linedata.columns = ['Bitcoin', 'GLDM']"
   ]
  },
  {
   "cell_type": "code",
   "execution_count": 70,
   "id": "6ef1bb35",
   "metadata": {
    "ExecuteTime": {
     "end_time": "2021-10-12T04:44:18.645058Z",
     "start_time": "2021-10-12T04:44:18.630227Z"
    },
    "scrolled": true
   },
   "outputs": [
    {
     "name": "stdout",
     "output_type": "stream",
     "text": [
      "<class 'pandas.core.frame.DataFrame'>\n",
      "DatetimeIndex: 865 entries, 2019-06-01 to 2021-10-12\n",
      "Data columns (total 2 columns):\n",
      " #   Column   Non-Null Count  Dtype  \n",
      "---  ------   --------------  -----  \n",
      " 0   Bitcoin  861 non-null    float64\n",
      " 1   GLDM     865 non-null    float64\n",
      "dtypes: float64(2)\n",
      "memory usage: 52.6 KB\n"
     ]
    }
   ],
   "source": [
    "linedata.info()"
   ]
  },
  {
   "cell_type": "code",
   "execution_count": 71,
   "id": "6b93ba31",
   "metadata": {
    "ExecuteTime": {
     "end_time": "2021-10-12T04:44:18.661041Z",
     "start_time": "2021-10-12T04:44:18.646059Z"
    }
   },
   "outputs": [],
   "source": [
    "# round floats\n",
    "for col in linedata.columns.tolist():\n",
    "    linedata[col] = round(linedata[col],0)"
   ]
  },
  {
   "cell_type": "code",
   "execution_count": 72,
   "id": "533f3fe3",
   "metadata": {
    "ExecuteTime": {
     "end_time": "2021-10-12T04:44:18.676990Z",
     "start_time": "2021-10-12T04:44:18.662041Z"
    },
    "scrolled": true
   },
   "outputs": [
    {
     "name": "stdout",
     "output_type": "stream",
     "text": [
      "<class 'pandas.core.frame.DataFrame'>\n",
      "DatetimeIndex: 865 entries, 2019-06-01 to 2021-10-12\n",
      "Data columns (total 2 columns):\n",
      " #   Column   Non-Null Count  Dtype  \n",
      "---  ------   --------------  -----  \n",
      " 0   Bitcoin  861 non-null    float64\n",
      " 1   GLDM     865 non-null    float64\n",
      "dtypes: float64(2)\n",
      "memory usage: 52.6 KB\n"
     ]
    }
   ],
   "source": [
    "linedata.info()"
   ]
  },
  {
   "cell_type": "code",
   "execution_count": 73,
   "id": "3d41e0ed",
   "metadata": {
    "ExecuteTime": {
     "end_time": "2021-10-12T04:44:18.692194Z",
     "start_time": "2021-10-12T04:44:18.678490Z"
    },
    "scrolled": false
   },
   "outputs": [
    {
     "data": {
      "text/html": [
       "<div>\n",
       "<style scoped>\n",
       "    .dataframe tbody tr th:only-of-type {\n",
       "        vertical-align: middle;\n",
       "    }\n",
       "\n",
       "    .dataframe tbody tr th {\n",
       "        vertical-align: top;\n",
       "    }\n",
       "\n",
       "    .dataframe thead th {\n",
       "        text-align: right;\n",
       "    }\n",
       "</style>\n",
       "<table border=\"1\" class=\"dataframe\">\n",
       "  <thead>\n",
       "    <tr style=\"text-align: right;\">\n",
       "      <th></th>\n",
       "      <th>Bitcoin</th>\n",
       "      <th>GLDM</th>\n",
       "    </tr>\n",
       "    <tr>\n",
       "      <th>Date</th>\n",
       "      <th></th>\n",
       "      <th></th>\n",
       "    </tr>\n",
       "  </thead>\n",
       "  <tbody>\n",
       "    <tr>\n",
       "      <th>2019-06-01</th>\n",
       "      <td>100.0</td>\n",
       "      <td>100.0</td>\n",
       "    </tr>\n",
       "    <tr>\n",
       "      <th>2019-06-02</th>\n",
       "      <td>102.0</td>\n",
       "      <td>100.0</td>\n",
       "    </tr>\n",
       "    <tr>\n",
       "      <th>2019-06-03</th>\n",
       "      <td>96.0</td>\n",
       "      <td>100.0</td>\n",
       "    </tr>\n",
       "    <tr>\n",
       "      <th>2019-06-04</th>\n",
       "      <td>90.0</td>\n",
       "      <td>100.0</td>\n",
       "    </tr>\n",
       "    <tr>\n",
       "      <th>2019-06-05</th>\n",
       "      <td>91.0</td>\n",
       "      <td>100.0</td>\n",
       "    </tr>\n",
       "    <tr>\n",
       "      <th>...</th>\n",
       "      <td>...</td>\n",
       "      <td>...</td>\n",
       "    </tr>\n",
       "    <tr>\n",
       "      <th>2021-10-08</th>\n",
       "      <td>630.0</td>\n",
       "      <td>132.0</td>\n",
       "    </tr>\n",
       "    <tr>\n",
       "      <th>2021-10-09</th>\n",
       "      <td>642.0</td>\n",
       "      <td>132.0</td>\n",
       "    </tr>\n",
       "    <tr>\n",
       "      <th>2021-10-10</th>\n",
       "      <td>640.0</td>\n",
       "      <td>132.0</td>\n",
       "    </tr>\n",
       "    <tr>\n",
       "      <th>2021-10-11</th>\n",
       "      <td>671.0</td>\n",
       "      <td>132.0</td>\n",
       "    </tr>\n",
       "    <tr>\n",
       "      <th>2021-10-12</th>\n",
       "      <td>666.0</td>\n",
       "      <td>132.0</td>\n",
       "    </tr>\n",
       "  </tbody>\n",
       "</table>\n",
       "<p>865 rows × 2 columns</p>\n",
       "</div>"
      ],
      "text/plain": [
       "            Bitcoin   GLDM\n",
       "Date                      \n",
       "2019-06-01    100.0  100.0\n",
       "2019-06-02    102.0  100.0\n",
       "2019-06-03     96.0  100.0\n",
       "2019-06-04     90.0  100.0\n",
       "2019-06-05     91.0  100.0\n",
       "...             ...    ...\n",
       "2021-10-08    630.0  132.0\n",
       "2021-10-09    642.0  132.0\n",
       "2021-10-10    640.0  132.0\n",
       "2021-10-11    671.0  132.0\n",
       "2021-10-12    666.0  132.0\n",
       "\n",
       "[865 rows x 2 columns]"
      ]
     },
     "execution_count": 73,
     "metadata": {},
     "output_type": "execute_result"
    }
   ],
   "source": [
    "# Double checking the dataframe\n",
    "linedata"
   ]
  },
  {
   "cell_type": "markdown",
   "id": "3208d06f",
   "metadata": {},
   "source": [
    "## Load dataframe as excel file "
   ]
  },
  {
   "cell_type": "markdown",
   "id": "d2985982",
   "metadata": {},
   "source": [
    "### Define ExcelChart class"
   ]
  },
  {
   "cell_type": "code",
   "execution_count": 74,
   "id": "592f547c",
   "metadata": {
    "ExecuteTime": {
     "end_time": "2021-10-12T04:44:18.722451Z",
     "start_time": "2021-10-12T04:44:18.693747Z"
    }
   },
   "outputs": [],
   "source": [
    "class ExcelChart():\n",
    "    def __init__(\n",
    "        self,\n",
    "        chart_df: pd.DataFrame,\n",
    "        raw_df_list: list,\n",
    "        start_date: str, \n",
    "        end_date: str,\n",
    "        filename: str, \n",
    "        filepath: str\n",
    "    ):\n",
    "        \"\"\"Create a new excel sheet with a line chart as the first sheet, \n",
    "        append raw dataframes as separate worksheets, \n",
    "        then save the excel workbook.\n",
    "\n",
    "        Args:\n",
    "            chart_df (pd.DataFrame): pandas DataFrame used to plot line chart of indexed price history data\n",
    "            raw_df_list (list): list of raw and indexed dataframes of price data for each financial asset\n",
    "            start_date (str): start date of line chart\n",
    "            end_date (str): end date of line chart\n",
    "            filename (str): file name of excel file\n",
    "            filepath (str): absolute file path to save excel file to\n",
    "        \"\"\"\n",
    "        self.chart_df = chart_df\n",
    "        self.raw_df_list = raw_df_list\n",
    "        self.start_date = start_date\n",
    "        self.end_date = end_date\n",
    "        self.filename = filename\n",
    "        self.filepath = filepath\n",
    "    \n",
    "    ###########\n",
    "    # Helpers\n",
    "    ###########\n",
    "\n",
    "    def format_date_display(\n",
    "        self,\n",
    "        start_date: str,\n",
    "        end_date: str):\n",
    "        \"\"\"Converts start date and end date from DD/MM/YYYY format to dd month_name yy format for excel chart display.\n",
    "\n",
    "        Args:\n",
    "            start_date (str): start date in string in DD/MM/YYYY format\n",
    "            end_date (str):  end date in string in DD/MM/YYYY format\n",
    "\n",
    "        Returns:\n",
    "            start_date (str): start date in string in dd month_name yy format\n",
    "            end_date (str):  end date in string in dd month_name yy format\n",
    "        \"\"\"\n",
    "\n",
    "        start_date = datetime.strptime(start_date, '%d/%m/%Y') # read str as datetime\n",
    "        start_date = datetime.strftime(start_date, '%d %b %y') # convert to dd month_name yy format\n",
    "\n",
    "        end_date = datetime.strptime(end_date, '%d/%m/%Y') # read str as datetime\n",
    "        end_date = datetime.strftime(end_date, '%d %b %y') # convert to dd month_name yy format\n",
    "\n",
    "        return start_date, end_date\n",
    "\n",
    "    def new_excelsheet(\n",
    "        self,\n",
    "        df: pd.DataFrame, \n",
    "        sheetname: str, \n",
    "        sheetnumber: int = 0\n",
    "    ):\n",
    "        \"\"\"Writes a pandas dataframe as a new excel spreadsheet in an excel workbook\n",
    "\n",
    "        Args:\n",
    "            df (pd.DataFrame): pandas dataframe to be written as an excel spreadsheet\n",
    "            sheetname (str): name of new excel spreadsheet\n",
    "            sheetnumber (int, optional): sheet number of the new excel spreadsheet. \n",
    "            Defaults to 0 (default sheet/first displayed sheet)\n",
    "\n",
    "        Returns:\n",
    "            wb (object): excel Workbook object\n",
    "        \"\"\"\n",
    "        # remove timestamp from datetime index\n",
    "        df.index = df.index.date \n",
    "\n",
    "        wb = Workbook()\n",
    "        newsheet = wb.create_sheet(sheetname, sheetnumber)\n",
    "        \n",
    "        for row in dataframe_to_rows(df, index = True, header = True):\n",
    "            newsheet.append(row)\n",
    "            \n",
    "        for cell in newsheet[1]: # excel indexing starts from 1, to select row 1\n",
    "            cell.style = 'Pandas'\n",
    "        \n",
    "        # Drop default blank 'Sheet' in workbook\n",
    "        wb.remove(wb['Sheet'])\n",
    "        \n",
    "        return wb\n",
    "\n",
    "    def append_excelsheet(\n",
    "        self,\n",
    "        wb: object, \n",
    "        df: pd.DataFrame, \n",
    "        sheetname: str, \n",
    "        sheetnumber: int =0\n",
    "    ):\n",
    "        \"\"\"Appends a pandas dataframe as an additional excel spreadsheet to an existing excel Workbook\n",
    "\n",
    "        Args:\n",
    "            wb (object): excel Workbook object \n",
    "            df (pd.DataFrame): pandas dataframe to append as a new excel spreadsheet\n",
    "            sheetname (str): name of newly appended worksheet\n",
    "            sheetnumber (int, optional): Sheet number of newly appended worksheet in excel workbook. \n",
    "            Defaults to 0 (first displayed worksheet).\n",
    "\n",
    "        Returns:\n",
    "            wb (object): excel workbook object with appended worksheet\n",
    "        \"\"\"\n",
    "        # remove timestamp from datetime index\n",
    "        df.index = df.index.date \n",
    "        \n",
    "        newsheet = wb.create_sheet(sheetname, sheetnumber)\n",
    "        \n",
    "        for row in dataframe_to_rows(df, index = True, header = True):\n",
    "            newsheet.append(row)\n",
    "            \n",
    "        for cell in newsheet[1]: # excel indexing starts from 1, to select row 1\n",
    "            cell.style = 'Pandas'\n",
    "        \n",
    "        return wb\n",
    "\n",
    "    def create_linechart(\n",
    "        self,\n",
    "        wb: object,\n",
    "        title: str,\n",
    "        ytitle: str,\n",
    "        date_unit: str,\n",
    "        date_format: str,\n",
    "        xtitle: str = \"Date\",\n",
    "        chartcell: str ='G3'\n",
    "    ):\n",
    "        \"\"\"Creates a new time-series line chart from data wthin an excel workbook object \n",
    "        using Date as the first column.\n",
    "\n",
    "        Args:\n",
    "            wb (object): excel workbook object\n",
    "            title (str): chart title\n",
    "            ytitle (str): y axis title\n",
    "            date_unit (str): major date units for x axis in 'days' or 'months' format.\n",
    "            date_format (str): format for displayed date.\n",
    "            xtitle (str, optional): x axis title. Defaults to \"Date\".\n",
    "            chartcell (str, optional): cell in workbook object to place chart. Defaults to 'G3'.\n",
    "\n",
    "        Returns:\n",
    "            wb (object): excel workbook object with newly created linechart\n",
    "        \"\"\"\n",
    "        \n",
    "        sheet = wb.active\n",
    "        \n",
    "        # exclude date column when selecting data, include header\n",
    "        data = Reference(\n",
    "            worksheet=sheet,\n",
    "            min_row=1,\n",
    "            max_row=sheet.max_row,\n",
    "            min_col=2,\n",
    "            max_col=sheet.max_column\n",
    "        )\n",
    "\n",
    "        # select only date column without title\n",
    "        dates = Reference(\n",
    "            worksheet=sheet,\n",
    "            min_col=1,\n",
    "            max_col=1,\n",
    "            min_row=2, \n",
    "            max_row=sheet.max_row\n",
    "        )\n",
    "        \n",
    "        chart = LineChart()\n",
    "        chart.title = title\n",
    "        chart.style = 2\n",
    "        \n",
    "        chart.y_axis.title = ytitle\n",
    "        chart.x_axis.title = xtitle\n",
    "        \n",
    "        chart.y_axis.crossAx = 500\n",
    "        chart.x_axis = DateAxis(crossAx=100)\n",
    "        chart.x_axis.number_format = date_format\n",
    "        chart.x_axis.majorTimeUnit = date_unit\n",
    "        \n",
    "        chart.height = 12\n",
    "        chart.width = 25\n",
    "        \n",
    "        chart.add_data(data, titles_from_data=True)\n",
    "        \n",
    "        chart.set_categories(dates)\n",
    "        \n",
    "        sheet.add_chart(chart, chartcell)\n",
    "\n",
    "        return wb\n",
    "    \n",
    "    #################\n",
    "    # Core function\n",
    "    #################\n",
    "\n",
    "    def run(self):\n",
    "        \"\"\"Create a new excel sheet with line chart, append raw dataframes as separate worksheets, \n",
    "        then save the excel workbook.\n",
    "        \"\"\"\n",
    "        \n",
    "        excel = self.new_excelsheet(\n",
    "            df = self.chart_df, \n",
    "            sheetname = 'Chart', \n",
    "            sheetnumber = 0\n",
    "        )\n",
    "\n",
    "        start_date, end_date = self.format_date_display(\n",
    "            self.start_date,\n",
    "            self.end_date\n",
    "        )\n",
    "\n",
    "        excel = self.create_linechart(\n",
    "            wb = excel,\n",
    "            title = f\"Indexed price history ({start_date} - {end_date})\",\n",
    "            ytitle = f\"% Change from {start_date}\",\n",
    "            date_unit = \"months\",\n",
    "            date_format = \"mmm-yy\"\n",
    "        )\n",
    "\n",
    "        for list_index, df in enumerate(self.raw_df_list):  \n",
    "\n",
    "            excel = self.append_excelsheet(\n",
    "                wb = excel, \n",
    "                df = df, \n",
    "                sheetname = df.name,\n",
    "                sheetnumber = list_index + 1\n",
    "            )\n",
    "\n",
    "        excel.save(f'{self.filepath}/{self.filename}.xlsx')\n",
    "\n",
    "        excel.close()"
   ]
  },
  {
   "cell_type": "markdown",
   "id": "40238695",
   "metadata": {},
   "source": [
    "# Create new excel sheet with line chart, append raw dataframes as separate worksheets, then save the excel workbook"
   ]
  },
  {
   "cell_type": "code",
   "execution_count": 75,
   "id": "79e839d1",
   "metadata": {
    "ExecuteTime": {
     "end_time": "2021-10-12T04:44:18.737973Z",
     "start_time": "2021-10-12T04:44:18.724234Z"
    }
   },
   "outputs": [],
   "source": [
    "raw_dataframes = [bitcoin, bitcoin_indexed, gldm, gldm_indexed]"
   ]
  },
  {
   "cell_type": "code",
   "execution_count": 76,
   "id": "69d01bba",
   "metadata": {
    "ExecuteTime": {
     "end_time": "2021-10-12T04:44:18.753306Z",
     "start_time": "2021-10-12T04:44:18.740199Z"
    }
   },
   "outputs": [],
   "source": [
    "# set dataframe names\n",
    "bitcoin.name = 'Bitcoin raw'\n",
    "bitcoin_indexed.name = 'Bitcoin indexed'\n",
    "gldm.name = 'GLDM raw'\n",
    "gldm_indexed.name = 'GLDM indexed'\n",
    "\n",
    "# get today's date \n",
    "TODAY = str(datetime.today().strftime('%d %b %y'))\n",
    "\n",
    "excel_filepath = Path.cwd().parents[0]"
   ]
  },
  {
   "cell_type": "code",
   "execution_count": 77,
   "id": "8df26102",
   "metadata": {
    "ExecuteTime": {
     "end_time": "2021-10-12T04:44:19.137653Z",
     "start_time": "2021-10-12T04:44:18.754478Z"
    }
   },
   "outputs": [],
   "source": [
    "create_excel_chart = ExcelChart(\n",
    "        chart_df = linedata,\n",
    "        raw_df_list = raw_dataframes,\n",
    "        start_date = start_date, \n",
    "        end_date = end_date,\n",
    "        filename = 'Historical_price-notebook_example', \n",
    "        filepath = excel_filepath\n",
    ")\n",
    "create_excel_chart.run()"
   ]
  },
  {
   "cell_type": "markdown",
   "id": "756680fe",
   "metadata": {},
   "source": [
    "# Further ideas"
   ]
  },
  {
   "cell_type": "markdown",
   "id": "c90325ef",
   "metadata": {},
   "source": [
    "The above is just a simple example of how we can combine rpa with other python packages. \n",
    "Of course, web scraping can be more efficient using other python web scraping packages like [scrapy](https://scrapy.org/) or [beautiful soup](https://beautiful-soup-4.readthedocs.io/en/latest/). \n",
    "\n",
    "We can also convert this into a main pipeline script after tidying up some of the code. \n",
    "The following additional features can also be included:\n",
    "- reading the required user-defined information from a configutation file. \n",
    "  - i.e. instead of only bitcoin and GLDM, we can include a host of other user-specified stocks to monitor  \n",
    "- setting up an Simple Mail Transfer Protocol (SMTP) logging handler to trigger an email alert if a certain price threshold is reached  \n",
    "- reading email passwords from Windows Credentials\n",
    "- converting the main script into an executable file, and then using Windows Task Scheduler to trigger the download of files from the web and excel processing at specified times "
   ]
  },
  {
   "cell_type": "code",
   "execution_count": null,
   "id": "e507cac4",
   "metadata": {},
   "outputs": [],
   "source": []
  }
 ],
 "metadata": {
  "hide_input": false,
  "kernelspec": {
   "display_name": "Python 3",
   "language": "python",
   "name": "python3"
  },
  "language_info": {
   "codemirror_mode": {
    "name": "ipython",
    "version": 3
   },
   "file_extension": ".py",
   "mimetype": "text/x-python",
   "name": "python",
   "nbconvert_exporter": "python",
   "pygments_lexer": "ipython3",
   "version": "3.7.10"
  },
  "toc": {
   "base_numbering": 1,
   "nav_menu": {},
   "number_sections": true,
   "sideBar": true,
   "skip_h1_title": false,
   "title_cell": "Table of Contents",
   "title_sidebar": "Contents",
   "toc_cell": true,
   "toc_position": {
    "height": "calc(100% - 180px)",
    "left": "10px",
    "top": "150px",
    "width": "303.825px"
   },
   "toc_section_display": true,
   "toc_window_display": true
  }
 },
 "nbformat": 4,
 "nbformat_minor": 5
}
